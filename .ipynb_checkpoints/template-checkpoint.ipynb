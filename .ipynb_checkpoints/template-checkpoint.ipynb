{
 "cells": [
  {
   "cell_type": "markdown",
   "id": "7905bccb",
   "metadata": {},
   "source": [
    "# Project Name"
   ]
  },
  {
   "cell_type": "markdown",
   "id": "96591756",
   "metadata": {},
   "source": [
    "## Business understanding"
   ]
  },
  {
   "cell_type": "markdown",
   "id": "33a44257",
   "metadata": {},
   "source": [
    "## Data retrieval"
   ]
  },
  {
   "cell_type": "code",
   "execution_count": null,
   "id": "a850f826",
   "metadata": {},
   "outputs": [],
   "source": [
    "# import useful packages\n",
    "import pandas as pd\n",
    "from pandas_profiling import ProfileReport\n",
    "import numpy as np\n",
    "import matplotlib.pyplot as plt\n",
    "import seaborn as sns\n",
    "from sklearn.preprocessing import OneHotEncoder, RobustScaler, MinMaxScaler, StandardScaler, FunctionTransformer\n",
    "from sklearn.impute import SimpleImputer\n",
    "from sklearn.model_selection import train_test_split, learning_curve\n",
    "from sklearn.model_selection import cross_validate, GridSearchCV\n",
    "from sklearn.pipeline import Pipeline\n",
    "from sklearn.compose import ColumnTransformer\n",
    "from sklearn.metrics import r2_score, mean_absolute_error\n",
    "from imblearn.over_sampling import SMOTE\n",
    "from sklearn.linear_model import LinearRegression, Ridge, Lasso, ElasticNet, LogisticRegression\n",
    "from sklearn.neighbors import KNebighborsClassifier\n",
    "from sklearn.inspection import permutation_importance\n",
    "from sklearn.metrics import plot_confusion_matrix\n",
    "from sklearn.cluster import KMeans\n",
    "import statsmodels.api as sm\n",
    "import re\n",
    "from imblearn.over_sampling import SMOTE"
   ]
  },
  {
   "cell_type": "code",
   "execution_count": null,
   "id": "a5c9132e",
   "metadata": {},
   "outputs": [],
   "source": [
    "# load data as a DataFrame\n",
    "df = pd.read_csv(path, sep=',')"
   ]
  },
  {
   "cell_type": "code",
   "execution_count": null,
   "id": "db2f0b87",
   "metadata": {},
   "outputs": [],
   "source": [
    "# check number of observations and potential features\n",
    "df.shape "
   ]
  },
  {
   "cell_type": "code",
   "execution_count": null,
   "id": "f34e9be8",
   "metadata": {},
   "outputs": [],
   "source": [
    "# check 5 first observations\n",
    "df.head()"
   ]
  },
  {
   "cell_type": "code",
   "execution_count": null,
   "id": "5c131485",
   "metadata": {},
   "outputs": [],
   "source": [
    "# check datatypes and number of empty values per row \n",
    "df.info()"
   ]
  },
  {
   "cell_type": "markdown",
   "id": "9aa74390",
   "metadata": {},
   "source": [
    "## Data preparation"
   ]
  },
  {
   "cell_type": "code",
   "execution_count": null,
   "id": "a0eb68a6",
   "metadata": {},
   "outputs": [],
   "source": [
    "# perform exploratory data analysis \n",
    "prof = ProfileReport(df)"
   ]
  },
  {
   "cell_type": "code",
   "execution_count": null,
   "id": "eed1fea7",
   "metadata": {},
   "outputs": [],
   "source": [
    "# show missing values by column\n",
    "data.isnull().sum().sort_values(ascending=False)/len(data) #NaN percentage for each column"
   ]
  },
  {
   "cell_type": "code",
   "execution_count": null,
   "id": "86349f69",
   "metadata": {},
   "outputs": [],
   "source": [
    "# set to lowercase\n",
    "df.columns = df.columns.str.lower()\n",
    "# remove a particular character\n",
    "df.columns = df.columns.str.strip(\"'\")"
   ]
  },
  {
   "cell_type": "code",
   "execution_count": null,
   "id": "2c053337",
   "metadata": {},
   "outputs": [],
   "source": [
    "# check for duplicates\n",
    "print(df.duplicated().sum())\n",
    "# drop duplicates\n",
    "df.drop_duplicates(inplace=True)"
   ]
  },
  {
   "cell_type": "code",
   "execution_count": null,
   "id": "3c46f8b3",
   "metadata": {},
   "outputs": [],
   "source": [
    "# transforming object to float\n",
    "df.column = pd.to_numeric(df.column, errors='coerce')"
   ]
  },
  {
   "cell_type": "code",
   "execution_count": null,
   "id": "abdf9041",
   "metadata": {},
   "outputs": [],
   "source": [
    "#transforming object to datetime\n",
    "df.column = pd.to_datetime(df.column, format='%Y-%m-%d')"
   ]
  },
  {
   "cell_type": "code",
   "execution_count": null,
   "id": "25fea6e5",
   "metadata": {},
   "outputs": [],
   "source": [
    "#remove observations with empty value for provided column\n",
    "df = df[~df[column].isna()]\n",
    "df = df[~df[column].isnull()]"
   ]
  },
  {
   "cell_type": "code",
   "execution_count": null,
   "id": "4c54fc80",
   "metadata": {},
   "outputs": [],
   "source": [
    "# replace missing values\n",
    "# mean, median, most_frequent, constant (use fill_value)\n",
    "simpleimputer = SimpleImputer(strategy='mean')\n",
    "df[column] = simpleimputer.fit_transform(df[[column]])"
   ]
  },
  {
   "cell_type": "code",
   "execution_count": null,
   "id": "4bb951b1",
   "metadata": {},
   "outputs": [],
   "source": [
    "# scaling of numerical variables for efficiency and better results\n",
    "def cat_preprocessing(num_variables):\n",
    "    for column in num_variables:\n",
    "        minmaxscaler = MinMaxScaler()\n",
    "        df[column] = minmaxscaler.fit_transform(df[[column]])\n",
    "        robustscaler = RobustScaler()\n",
    "        df[column] = robustscaler.fit_transform(df[[column]])\n",
    "        standardscaler = StandardScaler()\n",
    "        df[column] = standardscaler.fit_transform(df[[column]])"
   ]
  },
  {
   "cell_type": "code",
   "execution_count": null,
   "id": "eb88ff0d",
   "metadata": {},
   "outputs": [],
   "source": [
    "# one hot encoding of categorical variables\n",
    "ohe = OneHotEncoder(sparse=False, handle_unknown='ignore')\n",
    "df[new_column], df[other_new_column] = ohe.fit_transform(df[[column]]).T"
   ]
  },
  {
   "cell_type": "code",
   "execution_count": null,
   "id": "652c40d7",
   "metadata": {},
   "outputs": [],
   "source": [
    "# convert all the categorical variables into dummy variables\n",
    "df_dummies = pd.get_dummies(df)"
   ]
  },
  {
   "cell_type": "code",
   "execution_count": null,
   "id": "85bb115b",
   "metadata": {},
   "outputs": [],
   "source": [
    "# discretizing\n",
    "data[cat_column] = pd.cut(x = data[num_column],\n",
    "                       bins=[data[num_column].min()-1,\n",
    "                             data[num_column].mean(),\n",
    "                             data[num_column].max()+1], \n",
    "                       labels=['cheap', 'expensive'])\n",
    "\n",
    "data.head()"
   ]
  },
  {
   "cell_type": "code",
   "execution_count": null,
   "id": "f7240b40",
   "metadata": {},
   "outputs": [],
   "source": [
    "# useful data manipulations\n",
    "df.groupby(column).sum()[other_column]\n",
    "df.cumsum(axis=0)\n",
    "df.set_index(column, inplace=True)\n",
    "df.sort_values(by=column, ascending=False, inplace=True)\n",
    "df[column].argmin()\n",
    "df[column].argmax()"
   ]
  },
  {
   "cell_type": "code",
   "execution_count": null,
   "id": "b70fb4d6",
   "metadata": {},
   "outputs": [],
   "source": [
    "# LINE PLOTS\n",
    "plt.plot(x=df.col1, y=df.col2, c='red', ls='--', lw='0.5')\n",
    "sns.lineplot(data=df, x='col1', y='col2', hue='col3', size='col4')\n",
    "# DISTRIBUTIONS\n",
    "plt.hist()   \n",
    "sns.histplot()\n",
    "sns.kdeplot()\n",
    "sns.jointplot()\n",
    "# SCATTER PLOTS\n",
    "plt.scatter()\n",
    "sns.scatterplot()\n",
    "sns.regplot()\n",
    "# COUNT PLOTS\n",
    "sns.countplot() \n",
    "# CAT PLOTS\n",
    "plt.bar() # eq. plt.plot(kind=‘bar’)\n",
    "sns.barplot() # eq. catplot(kind=“bar”)\n",
    "sns.violinplot() # eq. catplot(kind=“violin”)\n",
    "sns.boxplot() # eq. catplot(kind=“box”)"
   ]
  },
  {
   "cell_type": "code",
   "execution_count": null,
   "id": "19fad87f",
   "metadata": {},
   "outputs": [],
   "source": [
    "# FACET GRID\n",
    "g = sns.FacetGrid(data=df, col='col1')\n",
    "g.map(plt.hist, 'col2')\n",
    "# DATAFRAME-LEVEL MULTI CORRELATIONS\n",
    "sns.heatmap(df.corr())\n",
    "sns.pairplot(hue='')\n",
    "## 2D HISTOGRAMS\n",
    "plt.hist2d()\n",
    "plt.colorbar()\n",
    "sns.jointplot(x,y, kind='kde', data=df)\n",
    "## 2D PROJECTION\n",
    "plt.contour(X,Y,Z) # iso lines\n",
    "plt.contourf(X,Y,Z=f(X,Y)) # area colors"
   ]
  },
  {
   "cell_type": "code",
   "execution_count": null,
   "id": "0198f6ce",
   "metadata": {},
   "outputs": [],
   "source": [
    "# create heatmap\n",
    "corr = df.corr()\n",
    "sns.heatmap(corr, \n",
    "        xticklabels=corr.columns,\n",
    "        yticklabels=corr.columns,\n",
    "        cmap= \"YlGnBu\")"
   ]
  },
  {
   "cell_type": "code",
   "execution_count": null,
   "id": "8e4d92bc",
   "metadata": {},
   "outputs": [],
   "source": [
    "# feature permutation\n",
    "log_model = LogisticRegression(class_weight='balanced').fit(X, y) # Fit model\n",
    "permutation_score = permutation_importance(log_model, X, y, n_repeats=10) # Perform Permutation\n",
    "importance_df = pd.DataFrame(np.vstack((X.columns,permutation_score.importances_mean)).T) # Unstack results\n",
    "importance_df.columns=['feature','score decrease']\n",
    "importance_df.sort_values(by=\"score decrease\", ascending = False) # Order by importance"
   ]
  },
  {
   "cell_type": "code",
   "execution_count": null,
   "id": "60539090",
   "metadata": {
    "scrolled": false
   },
   "outputs": [],
   "source": [
    "# splitting train and test set (70:30)\n",
    "X_train, X_test, y_train, y_test = train_test_split(X, y, test_size=0.3, random_state=0)"
   ]
  },
  {
   "cell_type": "code",
   "execution_count": null,
   "id": "5991841d",
   "metadata": {},
   "outputs": [],
   "source": [
    "# oversampling using Synthetic Minority Over-sampling Technique (SMOTE)\n",
    "oversample = SMOTE()\n",
    "X_train, y_train = oversample.fit_resample(X_train, y_train)"
   ]
  },
  {
   "cell_type": "code",
   "execution_count": null,
   "id": "80b8da1d",
   "metadata": {},
   "outputs": [],
   "source": [
    "# merge dataframes\n",
    "df1.merge(df2, how='inner', on=None)"
   ]
  },
  {
   "cell_type": "code",
   "execution_count": null,
   "id": "ad70ab52",
   "metadata": {},
   "outputs": [],
   "source": [
    "# regular expression\n",
    "xx = \"guru99,education is fun\"\n",
    "r1 = re.findall(r\"^\\w+\",xx)\n",
    "print(r1)"
   ]
  },
  {
   "cell_type": "markdown",
   "id": "c722b8be",
   "metadata": {},
   "source": [
    "## Modeling"
   ]
  },
  {
   "cell_type": "code",
   "execution_count": null,
   "id": "8ae166e0",
   "metadata": {},
   "outputs": [],
   "source": [
    "# cross validation\n",
    "results = cross_validate(estimator, X_train, y_train, cv=5, scoring='recall')\n",
    "np.mean(results['test_score'])"
   ]
  },
  {
   "cell_type": "markdown",
   "id": "17eda8d8",
   "metadata": {},
   "source": [
    "## Model Evaluation and Tuning"
   ]
  },
  {
   "cell_type": "code",
   "execution_count": null,
   "id": "8d60c097",
   "metadata": {},
   "outputs": [],
   "source": [
    "# plot confusion matrix\n",
    "plot_confusion_matrix(lr, X_test, y_test)  "
   ]
  },
  {
   "cell_type": "code",
   "execution_count": null,
   "id": "393064b1",
   "metadata": {},
   "outputs": [],
   "source": [
    "# plot learning curves\n",
    "train_sizes, train_scores, validation_scores = learning_curve(estimator = estimator,\n",
    "                                                              X = X_train,\n",
    "                                                              y = y_train,\n",
    "                                                              cv = 5,\n",
    "                                                              scoring='recall',\n",
    "                                                              n_jobs=-1)\n",
    "train_scores_mean = np.mean(train_scores, axis=1)\n",
    "validation_scores_mean = np.mean(validation_scores, axis=1)\n",
    "plt.plot(train_sizes, train_scores_mean, label = 'Training score')\n",
    "plt.plot(train_sizes, validation_scores_mean, label = 'Validation score')\n",
    "plt.ylabel('recall', fontsize = 14)\n",
    "plt.xlabel('Training set size', fontsize = 14)\n",
    "plt.title('Learning curves', fontsize = 18, y = 1.03)\n",
    "plt.legend()"
   ]
  },
  {
   "cell_type": "code",
   "execution_count": null,
   "id": "d739476d",
   "metadata": {},
   "outputs": [],
   "source": [
    "# evaluate the model\n",
    "estimator.fit(X_train, y_train)\n",
    "y_pred = lr.predict(X_test)\n",
    "recall_score(y_test, y_pred)"
   ]
  },
  {
   "cell_type": "code",
   "execution_count": null,
   "id": "070c4ec8",
   "metadata": {},
   "outputs": [],
   "source": [
    "# clustering\n",
    "km = KMeans(n_clusters=3)\n",
    "km.fit(X_train)\n",
    "km.cluster_centers_\n",
    "km.labels_\n",
    "km.predict(new_X)"
   ]
  },
  {
   "cell_type": "code",
   "execution_count": null,
   "id": "787adca4",
   "metadata": {},
   "outputs": [],
   "source": [
    "# statsmodel\n",
    "log_reg = sm.Logit(y_train, X_train).fit(maxiter=100)\n",
    "log_reg.summary()\n",
    "from sklearn.metrics import (confusion_matrix,\n",
    "                           accuracy_score)\n",
    "\n",
    "yhat = log_reg.predict(X_test)\n",
    "prediction = list(map(round, yhat))\n",
    " \n",
    "# confusion matrix\n",
    "cm = confusion_matrix(y_test, prediction)\n",
    "print (\"Confusion Matrix : \\n\", cm)\n",
    " \n",
    "# accuracy score of the model\n",
    "print('Test accuracy = ', accuracy_score(y_test, prediction))"
   ]
  },
  {
   "cell_type": "markdown",
   "id": "1ba74c4a",
   "metadata": {},
   "source": [
    "## Conclusion"
   ]
  }
 ],
 "metadata": {
  "kernelspec": {
   "display_name": "Python 3 (ipykernel)",
   "language": "python",
   "name": "python3"
  },
  "language_info": {
   "codemirror_mode": {
    "name": "ipython",
    "version": 3
   },
   "file_extension": ".py",
   "mimetype": "text/x-python",
   "name": "python",
   "nbconvert_exporter": "python",
   "pygments_lexer": "ipython3",
   "version": "3.8.6"
  },
  "toc": {
   "base_numbering": 1,
   "nav_menu": {},
   "number_sections": false,
   "sideBar": true,
   "skip_h1_title": false,
   "title_cell": "Table of Contents",
   "title_sidebar": "Contents",
   "toc_cell": false,
   "toc_position": {},
   "toc_section_display": true,
   "toc_window_display": true
  }
 },
 "nbformat": 4,
 "nbformat_minor": 5
}

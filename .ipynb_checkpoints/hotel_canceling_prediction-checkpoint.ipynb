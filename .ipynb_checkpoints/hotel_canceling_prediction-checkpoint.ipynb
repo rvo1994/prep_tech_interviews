{
 "cells": [
  {
   "cell_type": "markdown",
   "id": "ca64ae45",
   "metadata": {},
   "source": [
    "# Hotel booking demand"
   ]
  },
  {
   "cell_type": "markdown",
   "id": "871820b7",
   "metadata": {},
   "source": [
    "To prepare for technical interviews, I explored in 90 minutes this dataset taken from Kaggle (https://www.kaggle.com/jessemostipak/hotel-booking-demand)."
   ]
  },
  {
   "cell_type": "markdown",
   "id": "adf4411a",
   "metadata": {},
   "source": [
    "## Data retrieval"
   ]
  },
  {
   "cell_type": "markdown",
   "id": "65da5ae9",
   "metadata": {},
   "source": [
    "Let's first retrieve the data and inspect it quickly."
   ]
  },
  {
   "cell_type": "code",
   "execution_count": 38,
   "id": "ec3018c7",
   "metadata": {},
   "outputs": [],
   "source": [
    "# import useful packages\n",
    "import pandas as pd\n",
    "from pandas_profiling import ProfileReport\n",
    "import numpy as np\n",
    "import matplotlib.pyplot as plt\n",
    "import seaborn as sns\n",
    "from sklearn.preprocessing import OneHotEncoder, RobustScaler, MinMaxScaler, StandardScaler, FunctionTransformer\n",
    "from sklearn.impute import SimpleImputer\n",
    "from sklearn.model_selection import train_test_split, learning_curve\n",
    "from sklearn.model_selection import cross_validate\n",
    "from sklearn.linear_model import LogisticRegression\n",
    "from sklearn.inspection import permutation_importance\n",
    "from sklearn.metrics import plot_confusion_matrix\n",
    "from sklearn.neighbors import KNeighborsClassifier\n",
    "from sklearn.metrics import recall_score\n",
    "from sklearn.metrics import accuracy_score\n",
    "from imblearn.over_sampling import SMOTE"
   ]
  },
  {
   "cell_type": "code",
   "execution_count": 48,
   "id": "6a564792",
   "metadata": {},
   "outputs": [
    {
     "data": {
      "text/plain": [
       "0    63371\n",
       "1    24025\n",
       "Name: is_canceled, dtype: int64"
      ]
     },
     "execution_count": 48,
     "metadata": {},
     "output_type": "execute_result"
    }
   ],
   "source": [
    "df.is_canceled.value_counts()"
   ]
  },
  {
   "cell_type": "code",
   "execution_count": 49,
   "id": "79edc5ed",
   "metadata": {},
   "outputs": [
    {
     "data": {
      "text/plain": [
       "0.27489816467572886"
      ]
     },
     "execution_count": 49,
     "metadata": {},
     "output_type": "execute_result"
    }
   ],
   "source": [
    "24025/(63371 + 24025)"
   ]
  },
  {
   "cell_type": "code",
   "execution_count": 2,
   "id": "876d6590",
   "metadata": {},
   "outputs": [],
   "source": [
    "# load data as a DataFrame\n",
    "df = pd.read_csv('hotel_bookings 2.csv')"
   ]
  },
  {
   "cell_type": "code",
   "execution_count": 3,
   "id": "feb28e64",
   "metadata": {},
   "outputs": [
    {
     "data": {
      "text/html": [
       "<div>\n",
       "<style scoped>\n",
       "    .dataframe tbody tr th:only-of-type {\n",
       "        vertical-align: middle;\n",
       "    }\n",
       "\n",
       "    .dataframe tbody tr th {\n",
       "        vertical-align: top;\n",
       "    }\n",
       "\n",
       "    .dataframe thead th {\n",
       "        text-align: right;\n",
       "    }\n",
       "</style>\n",
       "<table border=\"1\" class=\"dataframe\">\n",
       "  <thead>\n",
       "    <tr style=\"text-align: right;\">\n",
       "      <th></th>\n",
       "      <th>hotel</th>\n",
       "      <th>is_canceled</th>\n",
       "      <th>lead_time</th>\n",
       "      <th>arrival_date_year</th>\n",
       "      <th>arrival_date_month</th>\n",
       "      <th>arrival_date_week_number</th>\n",
       "      <th>arrival_date_day_of_month</th>\n",
       "      <th>stays_in_weekend_nights</th>\n",
       "      <th>stays_in_week_nights</th>\n",
       "      <th>adults</th>\n",
       "      <th>...</th>\n",
       "      <th>deposit_type</th>\n",
       "      <th>agent</th>\n",
       "      <th>company</th>\n",
       "      <th>days_in_waiting_list</th>\n",
       "      <th>customer_type</th>\n",
       "      <th>adr</th>\n",
       "      <th>required_car_parking_spaces</th>\n",
       "      <th>total_of_special_requests</th>\n",
       "      <th>reservation_status</th>\n",
       "      <th>reservation_status_date</th>\n",
       "    </tr>\n",
       "  </thead>\n",
       "  <tbody>\n",
       "    <tr>\n",
       "      <th>0</th>\n",
       "      <td>Resort Hotel</td>\n",
       "      <td>0</td>\n",
       "      <td>342</td>\n",
       "      <td>2015</td>\n",
       "      <td>July</td>\n",
       "      <td>27</td>\n",
       "      <td>1</td>\n",
       "      <td>0</td>\n",
       "      <td>0</td>\n",
       "      <td>2</td>\n",
       "      <td>...</td>\n",
       "      <td>No Deposit</td>\n",
       "      <td>NaN</td>\n",
       "      <td>NaN</td>\n",
       "      <td>0</td>\n",
       "      <td>Transient</td>\n",
       "      <td>0.0</td>\n",
       "      <td>0</td>\n",
       "      <td>0</td>\n",
       "      <td>Check-Out</td>\n",
       "      <td>2015-07-01</td>\n",
       "    </tr>\n",
       "    <tr>\n",
       "      <th>1</th>\n",
       "      <td>Resort Hotel</td>\n",
       "      <td>0</td>\n",
       "      <td>737</td>\n",
       "      <td>2015</td>\n",
       "      <td>July</td>\n",
       "      <td>27</td>\n",
       "      <td>1</td>\n",
       "      <td>0</td>\n",
       "      <td>0</td>\n",
       "      <td>2</td>\n",
       "      <td>...</td>\n",
       "      <td>No Deposit</td>\n",
       "      <td>NaN</td>\n",
       "      <td>NaN</td>\n",
       "      <td>0</td>\n",
       "      <td>Transient</td>\n",
       "      <td>0.0</td>\n",
       "      <td>0</td>\n",
       "      <td>0</td>\n",
       "      <td>Check-Out</td>\n",
       "      <td>2015-07-01</td>\n",
       "    </tr>\n",
       "    <tr>\n",
       "      <th>2</th>\n",
       "      <td>Resort Hotel</td>\n",
       "      <td>0</td>\n",
       "      <td>7</td>\n",
       "      <td>2015</td>\n",
       "      <td>July</td>\n",
       "      <td>27</td>\n",
       "      <td>1</td>\n",
       "      <td>0</td>\n",
       "      <td>1</td>\n",
       "      <td>1</td>\n",
       "      <td>...</td>\n",
       "      <td>No Deposit</td>\n",
       "      <td>NaN</td>\n",
       "      <td>NaN</td>\n",
       "      <td>0</td>\n",
       "      <td>Transient</td>\n",
       "      <td>75.0</td>\n",
       "      <td>0</td>\n",
       "      <td>0</td>\n",
       "      <td>Check-Out</td>\n",
       "      <td>2015-07-02</td>\n",
       "    </tr>\n",
       "    <tr>\n",
       "      <th>3</th>\n",
       "      <td>Resort Hotel</td>\n",
       "      <td>0</td>\n",
       "      <td>13</td>\n",
       "      <td>2015</td>\n",
       "      <td>July</td>\n",
       "      <td>27</td>\n",
       "      <td>1</td>\n",
       "      <td>0</td>\n",
       "      <td>1</td>\n",
       "      <td>1</td>\n",
       "      <td>...</td>\n",
       "      <td>No Deposit</td>\n",
       "      <td>304.0</td>\n",
       "      <td>NaN</td>\n",
       "      <td>0</td>\n",
       "      <td>Transient</td>\n",
       "      <td>75.0</td>\n",
       "      <td>0</td>\n",
       "      <td>0</td>\n",
       "      <td>Check-Out</td>\n",
       "      <td>2015-07-02</td>\n",
       "    </tr>\n",
       "    <tr>\n",
       "      <th>4</th>\n",
       "      <td>Resort Hotel</td>\n",
       "      <td>0</td>\n",
       "      <td>14</td>\n",
       "      <td>2015</td>\n",
       "      <td>July</td>\n",
       "      <td>27</td>\n",
       "      <td>1</td>\n",
       "      <td>0</td>\n",
       "      <td>2</td>\n",
       "      <td>2</td>\n",
       "      <td>...</td>\n",
       "      <td>No Deposit</td>\n",
       "      <td>240.0</td>\n",
       "      <td>NaN</td>\n",
       "      <td>0</td>\n",
       "      <td>Transient</td>\n",
       "      <td>98.0</td>\n",
       "      <td>0</td>\n",
       "      <td>1</td>\n",
       "      <td>Check-Out</td>\n",
       "      <td>2015-07-03</td>\n",
       "    </tr>\n",
       "  </tbody>\n",
       "</table>\n",
       "<p>5 rows × 32 columns</p>\n",
       "</div>"
      ],
      "text/plain": [
       "          hotel  is_canceled  lead_time  arrival_date_year arrival_date_month  \\\n",
       "0  Resort Hotel            0        342               2015               July   \n",
       "1  Resort Hotel            0        737               2015               July   \n",
       "2  Resort Hotel            0          7               2015               July   \n",
       "3  Resort Hotel            0         13               2015               July   \n",
       "4  Resort Hotel            0         14               2015               July   \n",
       "\n",
       "   arrival_date_week_number  arrival_date_day_of_month  \\\n",
       "0                        27                          1   \n",
       "1                        27                          1   \n",
       "2                        27                          1   \n",
       "3                        27                          1   \n",
       "4                        27                          1   \n",
       "\n",
       "   stays_in_weekend_nights  stays_in_week_nights  adults  ...  deposit_type  \\\n",
       "0                        0                     0       2  ...    No Deposit   \n",
       "1                        0                     0       2  ...    No Deposit   \n",
       "2                        0                     1       1  ...    No Deposit   \n",
       "3                        0                     1       1  ...    No Deposit   \n",
       "4                        0                     2       2  ...    No Deposit   \n",
       "\n",
       "   agent company days_in_waiting_list customer_type   adr  \\\n",
       "0    NaN     NaN                    0     Transient   0.0   \n",
       "1    NaN     NaN                    0     Transient   0.0   \n",
       "2    NaN     NaN                    0     Transient  75.0   \n",
       "3  304.0     NaN                    0     Transient  75.0   \n",
       "4  240.0     NaN                    0     Transient  98.0   \n",
       "\n",
       "   required_car_parking_spaces  total_of_special_requests  reservation_status  \\\n",
       "0                            0                          0           Check-Out   \n",
       "1                            0                          0           Check-Out   \n",
       "2                            0                          0           Check-Out   \n",
       "3                            0                          0           Check-Out   \n",
       "4                            0                          1           Check-Out   \n",
       "\n",
       "  reservation_status_date  \n",
       "0              2015-07-01  \n",
       "1              2015-07-01  \n",
       "2              2015-07-02  \n",
       "3              2015-07-02  \n",
       "4              2015-07-03  \n",
       "\n",
       "[5 rows x 32 columns]"
      ]
     },
     "execution_count": 3,
     "metadata": {},
     "output_type": "execute_result"
    }
   ],
   "source": [
    "df.head()"
   ]
  },
  {
   "cell_type": "code",
   "execution_count": 4,
   "id": "b1ebb98d",
   "metadata": {},
   "outputs": [
    {
     "data": {
      "text/plain": [
       "(119390, 32)"
      ]
     },
     "execution_count": 4,
     "metadata": {},
     "output_type": "execute_result"
    }
   ],
   "source": [
    "# 119k observations, 32 variables\n",
    "df.shape"
   ]
  },
  {
   "cell_type": "code",
   "execution_count": 5,
   "id": "6a917e96",
   "metadata": {
    "scrolled": true
   },
   "outputs": [
    {
     "name": "stdout",
     "output_type": "stream",
     "text": [
      "<class 'pandas.core.frame.DataFrame'>\n",
      "RangeIndex: 119390 entries, 0 to 119389\n",
      "Data columns (total 32 columns):\n",
      " #   Column                          Non-Null Count   Dtype  \n",
      "---  ------                          --------------   -----  \n",
      " 0   hotel                           119390 non-null  object \n",
      " 1   is_canceled                     119390 non-null  int64  \n",
      " 2   lead_time                       119390 non-null  int64  \n",
      " 3   arrival_date_year               119390 non-null  int64  \n",
      " 4   arrival_date_month              119390 non-null  object \n",
      " 5   arrival_date_week_number        119390 non-null  int64  \n",
      " 6   arrival_date_day_of_month       119390 non-null  int64  \n",
      " 7   stays_in_weekend_nights         119390 non-null  int64  \n",
      " 8   stays_in_week_nights            119390 non-null  int64  \n",
      " 9   adults                          119390 non-null  int64  \n",
      " 10  children                        119386 non-null  float64\n",
      " 11  babies                          119390 non-null  int64  \n",
      " 12  meal                            119390 non-null  object \n",
      " 13  country                         118902 non-null  object \n",
      " 14  market_segment                  119390 non-null  object \n",
      " 15  distribution_channel            119390 non-null  object \n",
      " 16  is_repeated_guest               119390 non-null  int64  \n",
      " 17  previous_cancellations          119390 non-null  int64  \n",
      " 18  previous_bookings_not_canceled  119390 non-null  int64  \n",
      " 19  reserved_room_type              119390 non-null  object \n",
      " 20  assigned_room_type              119390 non-null  object \n",
      " 21  booking_changes                 119390 non-null  int64  \n",
      " 22  deposit_type                    119390 non-null  object \n",
      " 23  agent                           103050 non-null  float64\n",
      " 24  company                         6797 non-null    float64\n",
      " 25  days_in_waiting_list            119390 non-null  int64  \n",
      " 26  customer_type                   119390 non-null  object \n",
      " 27  adr                             119390 non-null  float64\n",
      " 28  required_car_parking_spaces     119390 non-null  int64  \n",
      " 29  total_of_special_requests       119390 non-null  int64  \n",
      " 30  reservation_status              119390 non-null  object \n",
      " 31  reservation_status_date         119390 non-null  object \n",
      "dtypes: float64(4), int64(16), object(12)\n",
      "memory usage: 29.1+ MB\n"
     ]
    }
   ],
   "source": [
    "# check datatypes and number of empty values per row \n",
    "df.info()"
   ]
  },
  {
   "cell_type": "code",
   "execution_count": 58,
   "id": "1b327a93",
   "metadata": {},
   "outputs": [
    {
     "data": {
      "application/vnd.jupyter.widget-view+json": {
       "model_id": "ef660dcdff6041cca48d886fdcdddc9c",
       "version_major": 2,
       "version_minor": 0
      },
      "text/plain": [
       "Summarize dataset:   0%|          | 0/57 [00:00<?, ?it/s]"
      ]
     },
     "metadata": {},
     "output_type": "display_data"
    },
    {
     "data": {
      "application/vnd.jupyter.widget-view+json": {
       "model_id": "985a80c33d6a496186bded294c48e95b",
       "version_major": 2,
       "version_minor": 0
      },
      "text/plain": [
       "Generate report structure:   0%|          | 0/1 [00:00<?, ?it/s]"
      ]
     },
     "metadata": {},
     "output_type": "display_data"
    },
    {
     "data": {
      "application/vnd.jupyter.widget-view+json": {
       "model_id": "0cc42d86026b4522ac4ecf656c6b0052",
       "version_major": 2,
       "version_minor": 0
      },
      "text/plain": [
       "Render HTML:   0%|          | 0/1 [00:00<?, ?it/s]"
      ]
     },
     "metadata": {},
     "output_type": "display_data"
    },
    {
     "data": {
      "application/vnd.jupyter.widget-view+json": {
       "model_id": "87da4c0ce146423393497253e1c91139",
       "version_major": 2,
       "version_minor": 0
      },
      "text/plain": [
       "Export report to file:   0%|          | 0/1 [00:00<?, ?it/s]"
      ]
     },
     "metadata": {},
     "output_type": "display_data"
    }
   ],
   "source": [
    "# perform exploratory data analysis \n",
    "prof = ProfileReport(df.loc[:10000])\n",
    "prof.to_file(output_file='output.html')"
   ]
  },
  {
   "cell_type": "markdown",
   "id": "c1a67aa5",
   "metadata": {},
   "source": [
    "## Data preparation"
   ]
  },
  {
   "cell_type": "markdown",
   "id": "8fc4264f",
   "metadata": {},
   "source": [
    "Let's now preprocess the data"
   ]
  },
  {
   "cell_type": "code",
   "execution_count": 6,
   "id": "08ef1353",
   "metadata": {},
   "outputs": [
    {
     "name": "stdout",
     "output_type": "stream",
     "text": [
      "31994\n"
     ]
    }
   ],
   "source": [
    "# check for duplicates\n",
    "print(df.duplicated().sum())\n",
    "# drop duplicates\n",
    "df.drop_duplicates(inplace=True)"
   ]
  },
  {
   "cell_type": "code",
   "execution_count": 7,
   "id": "3bc1dd6c",
   "metadata": {},
   "outputs": [],
   "source": [
    "# replace missing values\n",
    "simpleimputer = SimpleImputer(strategy='median')\n",
    "df['children'] = simpleimputer.fit_transform(df[['children']])"
   ]
  },
  {
   "cell_type": "code",
   "execution_count": 8,
   "id": "aa017aac",
   "metadata": {},
   "outputs": [],
   "source": [
    "# feature engineering with company column\n",
    "df['company'] = df['company'].apply(lambda x: 1 if x > 0 else 0)"
   ]
  },
  {
   "cell_type": "code",
   "execution_count": 9,
   "id": "495489a4",
   "metadata": {},
   "outputs": [],
   "source": [
    "# feature engineering with agent column\n",
    "df['agent'] = df['agent'].apply(lambda x: 1 if x > 0 else 0)"
   ]
  },
  {
   "cell_type": "code",
   "execution_count": 10,
   "id": "4a338a83",
   "metadata": {
    "scrolled": true
   },
   "outputs": [
    {
     "data": {
      "text/plain": [
       "country                           0.005172\n",
       "hotel                             0.000000\n",
       "previous_cancellations            0.000000\n",
       "reservation_status                0.000000\n",
       "total_of_special_requests         0.000000\n",
       "required_car_parking_spaces       0.000000\n",
       "adr                               0.000000\n",
       "customer_type                     0.000000\n",
       "days_in_waiting_list              0.000000\n",
       "company                           0.000000\n",
       "agent                             0.000000\n",
       "deposit_type                      0.000000\n",
       "booking_changes                   0.000000\n",
       "assigned_room_type                0.000000\n",
       "reserved_room_type                0.000000\n",
       "previous_bookings_not_canceled    0.000000\n",
       "is_repeated_guest                 0.000000\n",
       "is_canceled                       0.000000\n",
       "distribution_channel              0.000000\n",
       "market_segment                    0.000000\n",
       "meal                              0.000000\n",
       "babies                            0.000000\n",
       "children                          0.000000\n",
       "adults                            0.000000\n",
       "stays_in_week_nights              0.000000\n",
       "stays_in_weekend_nights           0.000000\n",
       "arrival_date_day_of_month         0.000000\n",
       "arrival_date_week_number          0.000000\n",
       "arrival_date_month                0.000000\n",
       "arrival_date_year                 0.000000\n",
       "lead_time                         0.000000\n",
       "reservation_status_date           0.000000\n",
       "dtype: float64"
      ]
     },
     "execution_count": 10,
     "metadata": {},
     "output_type": "execute_result"
    }
   ],
   "source": [
    "# show missing values by column\n",
    "df.isnull().sum().sort_values(ascending=False)/len(df) #NaN percentage for each column"
   ]
  },
  {
   "cell_type": "code",
   "execution_count": 11,
   "id": "a0bbd659",
   "metadata": {},
   "outputs": [],
   "source": [
    "# remove country (too many values to handle)\n",
    "df.drop(columns=['country'], inplace=True)"
   ]
  },
  {
   "cell_type": "code",
   "execution_count": 12,
   "id": "f68a1503",
   "metadata": {},
   "outputs": [],
   "source": [
    "# convert all the categorical variables into dummy variables\n",
    "df_cat = df[['hotel',\n",
    "    'meal',\n",
    "    'market_segment',\n",
    "    'distribution_channel', \n",
    "    'reserved_room_type',\n",
    "    'assigned_room_type',\n",
    "    'deposit_type',\n",
    "    'customer_type']]\n",
    "df_dummies = pd.get_dummies(df_cat)"
   ]
  },
  {
   "cell_type": "code",
   "execution_count": 13,
   "id": "040382b9",
   "metadata": {},
   "outputs": [],
   "source": [
    "# drop categorical values after one hot encoding them\n",
    "df.drop(columns=['hotel',\n",
    "    'meal',\n",
    "    'market_segment',\n",
    "    'distribution_channel', \n",
    "    'reserved_room_type',\n",
    "    'assigned_room_type',\n",
    "    'deposit_type',\n",
    "    'customer_type'], inplace=True)"
   ]
  },
  {
   "cell_type": "code",
   "execution_count": 14,
   "id": "c8b35bf3",
   "metadata": {
    "scrolled": true
   },
   "outputs": [],
   "source": [
    "# concatenate df and df_dummies\n",
    "df = pd.concat([df,df_dummies],axis=1)"
   ]
  },
  {
   "cell_type": "code",
   "execution_count": 15,
   "id": "d15768c3",
   "metadata": {},
   "outputs": [],
   "source": [
    "# drop reservation_status as it is too correlated with the feature\n",
    "df.drop(columns=['reservation_status'], inplace=True)"
   ]
  },
  {
   "cell_type": "code",
   "execution_count": 16,
   "id": "93924142",
   "metadata": {},
   "outputs": [],
   "source": [
    "# drop reservation_status_date as we dropped status\n",
    "df.drop(columns=['reservation_status_date'], inplace=True)"
   ]
  },
  {
   "cell_type": "code",
   "execution_count": 17,
   "id": "84cc0223",
   "metadata": {
    "scrolled": true
   },
   "outputs": [
    {
     "name": "stdout",
     "output_type": "stream",
     "text": [
      "<class 'pandas.core.frame.DataFrame'>\n",
      "Int64Index: 87396 entries, 0 to 119389\n",
      "Data columns (total 70 columns):\n",
      " #   Column                          Non-Null Count  Dtype  \n",
      "---  ------                          --------------  -----  \n",
      " 0   is_canceled                     87396 non-null  int64  \n",
      " 1   lead_time                       87396 non-null  int64  \n",
      " 2   arrival_date_year               87396 non-null  int64  \n",
      " 3   arrival_date_month              87396 non-null  object \n",
      " 4   arrival_date_week_number        87396 non-null  int64  \n",
      " 5   arrival_date_day_of_month       87396 non-null  int64  \n",
      " 6   stays_in_weekend_nights         87396 non-null  int64  \n",
      " 7   stays_in_week_nights            87396 non-null  int64  \n",
      " 8   adults                          87396 non-null  int64  \n",
      " 9   children                        87396 non-null  float64\n",
      " 10  babies                          87396 non-null  int64  \n",
      " 11  is_repeated_guest               87396 non-null  int64  \n",
      " 12  previous_cancellations          87396 non-null  int64  \n",
      " 13  previous_bookings_not_canceled  87396 non-null  int64  \n",
      " 14  booking_changes                 87396 non-null  int64  \n",
      " 15  agent                           87396 non-null  int64  \n",
      " 16  company                         87396 non-null  int64  \n",
      " 17  days_in_waiting_list            87396 non-null  int64  \n",
      " 18  adr                             87396 non-null  float64\n",
      " 19  required_car_parking_spaces     87396 non-null  int64  \n",
      " 20  total_of_special_requests       87396 non-null  int64  \n",
      " 21  hotel_City Hotel                87396 non-null  uint8  \n",
      " 22  hotel_Resort Hotel              87396 non-null  uint8  \n",
      " 23  meal_BB                         87396 non-null  uint8  \n",
      " 24  meal_FB                         87396 non-null  uint8  \n",
      " 25  meal_HB                         87396 non-null  uint8  \n",
      " 26  meal_SC                         87396 non-null  uint8  \n",
      " 27  meal_Undefined                  87396 non-null  uint8  \n",
      " 28  market_segment_Aviation         87396 non-null  uint8  \n",
      " 29  market_segment_Complementary    87396 non-null  uint8  \n",
      " 30  market_segment_Corporate        87396 non-null  uint8  \n",
      " 31  market_segment_Direct           87396 non-null  uint8  \n",
      " 32  market_segment_Groups           87396 non-null  uint8  \n",
      " 33  market_segment_Offline TA/TO    87396 non-null  uint8  \n",
      " 34  market_segment_Online TA        87396 non-null  uint8  \n",
      " 35  market_segment_Undefined        87396 non-null  uint8  \n",
      " 36  distribution_channel_Corporate  87396 non-null  uint8  \n",
      " 37  distribution_channel_Direct     87396 non-null  uint8  \n",
      " 38  distribution_channel_GDS        87396 non-null  uint8  \n",
      " 39  distribution_channel_TA/TO      87396 non-null  uint8  \n",
      " 40  distribution_channel_Undefined  87396 non-null  uint8  \n",
      " 41  reserved_room_type_A            87396 non-null  uint8  \n",
      " 42  reserved_room_type_B            87396 non-null  uint8  \n",
      " 43  reserved_room_type_C            87396 non-null  uint8  \n",
      " 44  reserved_room_type_D            87396 non-null  uint8  \n",
      " 45  reserved_room_type_E            87396 non-null  uint8  \n",
      " 46  reserved_room_type_F            87396 non-null  uint8  \n",
      " 47  reserved_room_type_G            87396 non-null  uint8  \n",
      " 48  reserved_room_type_H            87396 non-null  uint8  \n",
      " 49  reserved_room_type_L            87396 non-null  uint8  \n",
      " 50  reserved_room_type_P            87396 non-null  uint8  \n",
      " 51  assigned_room_type_A            87396 non-null  uint8  \n",
      " 52  assigned_room_type_B            87396 non-null  uint8  \n",
      " 53  assigned_room_type_C            87396 non-null  uint8  \n",
      " 54  assigned_room_type_D            87396 non-null  uint8  \n",
      " 55  assigned_room_type_E            87396 non-null  uint8  \n",
      " 56  assigned_room_type_F            87396 non-null  uint8  \n",
      " 57  assigned_room_type_G            87396 non-null  uint8  \n",
      " 58  assigned_room_type_H            87396 non-null  uint8  \n",
      " 59  assigned_room_type_I            87396 non-null  uint8  \n",
      " 60  assigned_room_type_K            87396 non-null  uint8  \n",
      " 61  assigned_room_type_L            87396 non-null  uint8  \n",
      " 62  assigned_room_type_P            87396 non-null  uint8  \n",
      " 63  deposit_type_No Deposit         87396 non-null  uint8  \n",
      " 64  deposit_type_Non Refund         87396 non-null  uint8  \n",
      " 65  deposit_type_Refundable         87396 non-null  uint8  \n",
      " 66  customer_type_Contract          87396 non-null  uint8  \n",
      " 67  customer_type_Group             87396 non-null  uint8  \n",
      " 68  customer_type_Transient         87396 non-null  uint8  \n",
      " 69  customer_type_Transient-Party   87396 non-null  uint8  \n",
      "dtypes: float64(2), int64(18), object(1), uint8(49)\n",
      "memory usage: 18.8+ MB\n"
     ]
    }
   ],
   "source": [
    "# check info to see if no variables have missing values and are all in a good datatype\n",
    "df.info()"
   ]
  },
  {
   "cell_type": "code",
   "execution_count": 18,
   "id": "a8376d3b",
   "metadata": {},
   "outputs": [],
   "source": [
    "# function to extract month number\n",
    "def month_string_to_number(string):\n",
    "    m = {\n",
    "        'jan': 1,\n",
    "        'feb': 2,\n",
    "        'mar': 3,\n",
    "        'apr':4,\n",
    "         'may':5,\n",
    "         'jun':6,\n",
    "         'jul':7,\n",
    "         'aug':8,\n",
    "         'sep':9,\n",
    "         'oct':10,\n",
    "         'nov':11,\n",
    "         'dec':12\n",
    "        }\n",
    "    s = string.strip()[:3].lower()\n",
    "\n",
    "    try:\n",
    "        out = m[s]\n",
    "        return out\n",
    "    except:\n",
    "        raise ValueError('Not a month')\n"
   ]
  },
  {
   "cell_type": "code",
   "execution_count": 19,
   "id": "62b2142f",
   "metadata": {},
   "outputs": [],
   "source": [
    "# apply function\n",
    "df['arrival_date_month'] = df['arrival_date_month'].apply(lambda x: month_string_to_number(x))"
   ]
  },
  {
   "cell_type": "code",
   "execution_count": 22,
   "id": "4f32b861",
   "metadata": {},
   "outputs": [],
   "source": [
    "# not relevant for new data\n",
    "df.drop(columns=['arrival_date_year'], inplace=True)"
   ]
  },
  {
   "cell_type": "code",
   "execution_count": 23,
   "id": "5539838d",
   "metadata": {},
   "outputs": [
    {
     "name": "stderr",
     "output_type": "stream",
     "text": [
      "/Users/raphaelvoortman/.pyenv/versions/3.8.6/envs/lewagon_tf/lib/python3.8/site-packages/seaborn/_decorators.py:36: FutureWarning: Pass the following variable as a keyword arg: x. From version 0.12, the only valid positional argument will be `data`, and passing other arguments without an explicit keyword will result in an error or misinterpretation.\n",
      "  warnings.warn(\n"
     ]
    },
    {
     "data": {
      "text/plain": [
       "<AxesSubplot:xlabel='arrival_date_week_number', ylabel='count'>"
      ]
     },
     "execution_count": 23,
     "metadata": {},
     "output_type": "execute_result"
    },
    {
     "data": {
      "image/png": "[encoded data removed]",
      "text/plain": [
       "<Figure size 1080x576 with 1 Axes>"
      ]
     },
     "metadata": {
      "needs_background": "light"
     },
     "output_type": "display_data"
    }
   ],
   "source": [
    "# plot reservations by week\n",
    "plt.figure(figsize=(15,8))\n",
    "sns.countplot(df.arrival_date_week_number)"
   ]
  },
  {
   "cell_type": "code",
   "execution_count": 24,
   "id": "146ce7e5",
   "metadata": {
    "scrolled": false
   },
   "outputs": [
    {
     "name": "stderr",
     "output_type": "stream",
     "text": [
      "/Users/raphaelvoortman/.pyenv/versions/3.8.6/envs/lewagon_tf/lib/python3.8/site-packages/seaborn/_decorators.py:36: FutureWarning: Pass the following variable as a keyword arg: x. From version 0.12, the only valid positional argument will be `data`, and passing other arguments without an explicit keyword will result in an error or misinterpretation.\n",
      "  warnings.warn(\n"
     ]
    },
    {
     "data": {
      "text/plain": [
       "<AxesSubplot:xlabel='is_canceled', ylabel='count'>"
      ]
     },
     "execution_count": 24,
     "metadata": {},
     "output_type": "execute_result"
    },
    {
     "data": {
      "image/png": "[encoded data removed]",
      "text/plain": [
       "<Figure size 432x288 with 1 Axes>"
      ]
     },
     "metadata": {
      "needs_background": "light"
     },
     "output_type": "display_data"
    }
   ],
   "source": [
    "# plot distribution of target\n",
    "sns.countplot(df.is_canceled) "
   ]
  },
  {
   "cell_type": "code",
   "execution_count": 25,
   "id": "55cf6e63",
   "metadata": {},
   "outputs": [],
   "source": [
    "# define X and y\n",
    "X = df.drop(columns=['is_canceled'])\n",
    "y = df['is_canceled']"
   ]
  },
  {
   "cell_type": "code",
   "execution_count": 26,
   "id": "61ba28f3",
   "metadata": {},
   "outputs": [],
   "source": [
    "# splitting train and test set (70:30)\n",
    "X_train, X_test, y_train, y_test = train_test_split(X, y, test_size=0.3, random_state=0)"
   ]
  },
  {
   "cell_type": "code",
   "execution_count": 39,
   "id": "9c53fa7a",
   "metadata": {},
   "outputs": [],
   "source": [
    "# oversampling using Synthetic Minority Over-sampling Technique (SMOTE)\n",
    "oversample = SMOTE()\n",
    "X_train, y_train = oversample.fit_resample(X_train, y_train)"
   ]
  },
  {
   "cell_type": "code",
   "execution_count": 40,
   "id": "3a528031",
   "metadata": {
    "scrolled": true
   },
   "outputs": [
    {
     "data": {
      "text/plain": [
       "required_car_parking_spaces      -0.184206\n",
       "deposit_type_No Deposit          -0.156473\n",
       "market_segment_Offline TA/TO     -0.123029\n",
       "total_of_special_requests        -0.120545\n",
       "booking_changes                  -0.093644\n",
       "previous_bookings_not_canceled   -0.052154\n",
       "reserved_room_type_A             -0.046070\n",
       "assigned_room_type_D             -0.043155\n",
       "assigned_room_type_C             -0.033003\n",
       "market_segment_Complementary     -0.030141\n",
       "assigned_room_type_K             -0.029175\n",
       "assigned_room_type_E             -0.026098\n",
       "babies                           -0.020543\n",
       "assigned_room_type_F             -0.013243\n",
       "market_segment_Aviation          -0.008762\n",
       "deposit_type_Refundable          -0.002502\n",
       "reserved_room_type_E             -0.001399\n",
       "reserved_room_type_L              0.001085\n",
       "arrival_date_week_number          0.001443\n",
       "arrival_date_month                0.003708\n",
       "days_in_waiting_list              0.004464\n",
       "arrival_date_day_of_month         0.005328\n",
       "assigned_room_type_L              0.005494\n",
       "market_segment_Undefined          0.007769\n",
       "distribution_channel_Undefined    0.008896\n",
       "assigned_room_type_G              0.010198\n",
       "reserved_room_type_F              0.010866\n",
       "reserved_room_type_C              0.011197\n",
       "reserved_room_type_P              0.013457\n",
       "assigned_room_type_P              0.013457\n",
       "previous_cancellations            0.051468\n",
       "stays_in_weekend_nights           0.060191\n",
       "meal_SC                           0.061040\n",
       "children                          0.067369\n",
       "hotel_City Hotel                  0.071596\n",
       "assigned_room_type_A              0.074489\n",
       "stays_in_week_nights              0.082928\n",
       "agent                             0.132760\n",
       "distribution_channel_TA/TO        0.151642\n",
       "deposit_type_Non Refund           0.165046\n",
       "lead_time                         0.184806\n",
       "market_segment_Online TA          0.211363\n",
       "is_canceled                       1.000000\n",
       "Name: is_canceled, dtype: float64"
      ]
     },
     "execution_count": 40,
     "metadata": {},
     "output_type": "execute_result"
    }
   ],
   "source": [
    "# check for features too correlated with the target\n",
    "df.corr()['is_canceled'].sort_values()"
   ]
  },
  {
   "cell_type": "markdown",
   "id": "5d8869dd",
   "metadata": {},
   "source": [
    "## Modeling"
   ]
  },
  {
   "cell_type": "code",
   "execution_count": 41,
   "id": "1fc5182e",
   "metadata": {},
   "outputs": [
    {
     "name": "stderr",
     "output_type": "stream",
     "text": [
      "/Users/raphaelvoortman/.pyenv/versions/3.8.6/envs/lewagon_tf/lib/python3.8/site-packages/sklearn/linear_model/_logistic.py:763: ConvergenceWarning: lbfgs failed to converge (status=1):\n",
      "STOP: TOTAL NO. of ITERATIONS REACHED LIMIT.\n",
      "\n",
      "Increase the number of iterations (max_iter) or scale the data as shown in:\n",
      "    https://scikit-learn.org/stable/modules/preprocessing.html\n",
      "Please also refer to the documentation for alternative solver options:\n",
      "    https://scikit-learn.org/stable/modules/linear_model.html#logistic-regression\n",
      "  n_iter_i = _check_optimize_result(\n"
     ]
    },
    {
     "data": {
      "text/html": [
       "<div>\n",
       "<style scoped>\n",
       "    .dataframe tbody tr th:only-of-type {\n",
       "        vertical-align: middle;\n",
       "    }\n",
       "\n",
       "    .dataframe tbody tr th {\n",
       "        vertical-align: top;\n",
       "    }\n",
       "\n",
       "    .dataframe thead th {\n",
       "        text-align: right;\n",
       "    }\n",
       "</style>\n",
       "<table border=\"1\" class=\"dataframe\">\n",
       "  <thead>\n",
       "    <tr style=\"text-align: right;\">\n",
       "      <th></th>\n",
       "      <th>feature</th>\n",
       "      <th>score decrease</th>\n",
       "    </tr>\n",
       "  </thead>\n",
       "  <tbody>\n",
       "    <tr>\n",
       "      <th>14</th>\n",
       "      <td>total_of_special_requests</td>\n",
       "      <td>0.045566</td>\n",
       "    </tr>\n",
       "    <tr>\n",
       "      <th>20</th>\n",
       "      <td>market_segment_Online TA</td>\n",
       "      <td>0.035455</td>\n",
       "    </tr>\n",
       "    <tr>\n",
       "      <th>0</th>\n",
       "      <td>lead_time</td>\n",
       "      <td>0.019692</td>\n",
       "    </tr>\n",
       "    <tr>\n",
       "      <th>24</th>\n",
       "      <td>reserved_room_type_A</td>\n",
       "      <td>0.017059</td>\n",
       "    </tr>\n",
       "    <tr>\n",
       "      <th>13</th>\n",
       "      <td>required_car_parking_spaces</td>\n",
       "      <td>0.014829</td>\n",
       "    </tr>\n",
       "    <tr>\n",
       "      <th>19</th>\n",
       "      <td>market_segment_Offline TA/TO</td>\n",
       "      <td>0.009256</td>\n",
       "    </tr>\n",
       "    <tr>\n",
       "      <th>8</th>\n",
       "      <td>previous_cancellations</td>\n",
       "      <td>0.00536</td>\n",
       "    </tr>\n",
       "    <tr>\n",
       "      <th>30</th>\n",
       "      <td>assigned_room_type_A</td>\n",
       "      <td>0.004055</td>\n",
       "    </tr>\n",
       "    <tr>\n",
       "      <th>39</th>\n",
       "      <td>deposit_type_No Deposit</td>\n",
       "      <td>0.002637</td>\n",
       "    </tr>\n",
       "    <tr>\n",
       "      <th>10</th>\n",
       "      <td>booking_changes</td>\n",
       "      <td>0.002291</td>\n",
       "    </tr>\n",
       "    <tr>\n",
       "      <th>40</th>\n",
       "      <td>deposit_type_Non Refund</td>\n",
       "      <td>0.001613</td>\n",
       "    </tr>\n",
       "    <tr>\n",
       "      <th>2</th>\n",
       "      <td>arrival_date_week_number</td>\n",
       "      <td>0.001214</td>\n",
       "    </tr>\n",
       "    <tr>\n",
       "      <th>5</th>\n",
       "      <td>stays_in_week_nights</td>\n",
       "      <td>0.001127</td>\n",
       "    </tr>\n",
       "    <tr>\n",
       "      <th>6</th>\n",
       "      <td>children</td>\n",
       "      <td>0.001127</td>\n",
       "    </tr>\n",
       "    <tr>\n",
       "      <th>1</th>\n",
       "      <td>arrival_date_month</td>\n",
       "      <td>0.000779</td>\n",
       "    </tr>\n",
       "    <tr>\n",
       "      <th>9</th>\n",
       "      <td>previous_bookings_not_canceled</td>\n",
       "      <td>0.000501</td>\n",
       "    </tr>\n",
       "    <tr>\n",
       "      <th>4</th>\n",
       "      <td>stays_in_weekend_nights</td>\n",
       "      <td>0.000381</td>\n",
       "    </tr>\n",
       "    <tr>\n",
       "      <th>26</th>\n",
       "      <td>reserved_room_type_E</td>\n",
       "      <td>0.000292</td>\n",
       "    </tr>\n",
       "    <tr>\n",
       "      <th>25</th>\n",
       "      <td>reserved_room_type_C</td>\n",
       "      <td>0.000089</td>\n",
       "    </tr>\n",
       "    <tr>\n",
       "      <th>3</th>\n",
       "      <td>arrival_date_day_of_month</td>\n",
       "      <td>0.000085</td>\n",
       "    </tr>\n",
       "    <tr>\n",
       "      <th>7</th>\n",
       "      <td>babies</td>\n",
       "      <td>0.000068</td>\n",
       "    </tr>\n",
       "    <tr>\n",
       "      <th>35</th>\n",
       "      <td>assigned_room_type_G</td>\n",
       "      <td>0.000029</td>\n",
       "    </tr>\n",
       "    <tr>\n",
       "      <th>36</th>\n",
       "      <td>assigned_room_type_K</td>\n",
       "      <td>0.000022</td>\n",
       "    </tr>\n",
       "    <tr>\n",
       "      <th>18</th>\n",
       "      <td>market_segment_Complementary</td>\n",
       "      <td>0.000015</td>\n",
       "    </tr>\n",
       "    <tr>\n",
       "      <th>17</th>\n",
       "      <td>market_segment_Aviation</td>\n",
       "      <td>0.000003</td>\n",
       "    </tr>\n",
       "    <tr>\n",
       "      <th>29</th>\n",
       "      <td>reserved_room_type_P</td>\n",
       "      <td>0.000001</td>\n",
       "    </tr>\n",
       "    <tr>\n",
       "      <th>38</th>\n",
       "      <td>assigned_room_type_P</td>\n",
       "      <td>0.000001</td>\n",
       "    </tr>\n",
       "    <tr>\n",
       "      <th>37</th>\n",
       "      <td>assigned_room_type_L</td>\n",
       "      <td>0.0</td>\n",
       "    </tr>\n",
       "    <tr>\n",
       "      <th>21</th>\n",
       "      <td>market_segment_Undefined</td>\n",
       "      <td>0.0</td>\n",
       "    </tr>\n",
       "    <tr>\n",
       "      <th>28</th>\n",
       "      <td>reserved_room_type_L</td>\n",
       "      <td>0.0</td>\n",
       "    </tr>\n",
       "    <tr>\n",
       "      <th>23</th>\n",
       "      <td>distribution_channel_Undefined</td>\n",
       "      <td>0.0</td>\n",
       "    </tr>\n",
       "    <tr>\n",
       "      <th>27</th>\n",
       "      <td>reserved_room_type_F</td>\n",
       "      <td>-0.000002</td>\n",
       "    </tr>\n",
       "    <tr>\n",
       "      <th>41</th>\n",
       "      <td>deposit_type_Refundable</td>\n",
       "      <td>-0.000003</td>\n",
       "    </tr>\n",
       "    <tr>\n",
       "      <th>12</th>\n",
       "      <td>days_in_waiting_list</td>\n",
       "      <td>-0.000034</td>\n",
       "    </tr>\n",
       "    <tr>\n",
       "      <th>31</th>\n",
       "      <td>assigned_room_type_C</td>\n",
       "      <td>-0.000137</td>\n",
       "    </tr>\n",
       "    <tr>\n",
       "      <th>34</th>\n",
       "      <td>assigned_room_type_F</td>\n",
       "      <td>-0.000219</td>\n",
       "    </tr>\n",
       "    <tr>\n",
       "      <th>33</th>\n",
       "      <td>assigned_room_type_E</td>\n",
       "      <td>-0.000373</td>\n",
       "    </tr>\n",
       "    <tr>\n",
       "      <th>11</th>\n",
       "      <td>agent</td>\n",
       "      <td>-0.000477</td>\n",
       "    </tr>\n",
       "    <tr>\n",
       "      <th>32</th>\n",
       "      <td>assigned_room_type_D</td>\n",
       "      <td>-0.000478</td>\n",
       "    </tr>\n",
       "    <tr>\n",
       "      <th>16</th>\n",
       "      <td>meal_SC</td>\n",
       "      <td>-0.001025</td>\n",
       "    </tr>\n",
       "    <tr>\n",
       "      <th>22</th>\n",
       "      <td>distribution_channel_TA/TO</td>\n",
       "      <td>-0.002736</td>\n",
       "    </tr>\n",
       "    <tr>\n",
       "      <th>15</th>\n",
       "      <td>hotel_City Hotel</td>\n",
       "      <td>-0.002946</td>\n",
       "    </tr>\n",
       "  </tbody>\n",
       "</table>\n",
       "</div>"
      ],
      "text/plain": [
       "                           feature score decrease\n",
       "14       total_of_special_requests       0.045566\n",
       "20        market_segment_Online TA       0.035455\n",
       "0                        lead_time       0.019692\n",
       "24            reserved_room_type_A       0.017059\n",
       "13     required_car_parking_spaces       0.014829\n",
       "19    market_segment_Offline TA/TO       0.009256\n",
       "8           previous_cancellations        0.00536\n",
       "30            assigned_room_type_A       0.004055\n",
       "39         deposit_type_No Deposit       0.002637\n",
       "10                 booking_changes       0.002291\n",
       "40         deposit_type_Non Refund       0.001613\n",
       "2         arrival_date_week_number       0.001214\n",
       "5             stays_in_week_nights       0.001127\n",
       "6                         children       0.001127\n",
       "1               arrival_date_month       0.000779\n",
       "9   previous_bookings_not_canceled       0.000501\n",
       "4          stays_in_weekend_nights       0.000381\n",
       "26            reserved_room_type_E       0.000292\n",
       "25            reserved_room_type_C       0.000089\n",
       "3        arrival_date_day_of_month       0.000085\n",
       "7                           babies       0.000068\n",
       "35            assigned_room_type_G       0.000029\n",
       "36            assigned_room_type_K       0.000022\n",
       "18    market_segment_Complementary       0.000015\n",
       "17         market_segment_Aviation       0.000003\n",
       "29            reserved_room_type_P       0.000001\n",
       "38            assigned_room_type_P       0.000001\n",
       "37            assigned_room_type_L            0.0\n",
       "21        market_segment_Undefined            0.0\n",
       "28            reserved_room_type_L            0.0\n",
       "23  distribution_channel_Undefined            0.0\n",
       "27            reserved_room_type_F      -0.000002\n",
       "41         deposit_type_Refundable      -0.000003\n",
       "12            days_in_waiting_list      -0.000034\n",
       "31            assigned_room_type_C      -0.000137\n",
       "34            assigned_room_type_F      -0.000219\n",
       "33            assigned_room_type_E      -0.000373\n",
       "11                           agent      -0.000477\n",
       "32            assigned_room_type_D      -0.000478\n",
       "16                         meal_SC      -0.001025\n",
       "22      distribution_channel_TA/TO      -0.002736\n",
       "15                hotel_City Hotel      -0.002946"
      ]
     },
     "execution_count": 41,
     "metadata": {},
     "output_type": "execute_result"
    }
   ],
   "source": [
    "# feature permutation\n",
    "log_model = LogisticRegression(class_weight='balanced').fit(X, y) # Fit model\n",
    "permutation_score = permutation_importance(log_model, X, y, n_repeats=10) # Perform Permutation\n",
    "importance_df = pd.DataFrame(np.vstack((X.columns,permutation_score.importances_mean)).T) # Unstack results\n",
    "importance_df.columns=['feature','score decrease']\n",
    "importance_df.sort_values(by=\"score decrease\", ascending = False) # Order by importance"
   ]
  },
  {
   "cell_type": "code",
   "execution_count": 29,
   "id": "2d210b80",
   "metadata": {},
   "outputs": [],
   "source": [
    "var_to_drop = list(importance_df[importance_df['score decrease'] < 0].feature.values)"
   ]
  },
  {
   "cell_type": "code",
   "execution_count": 30,
   "id": "d9f9f42b",
   "metadata": {},
   "outputs": [],
   "source": [
    "df.drop(columns=var_to_drop, inplace=True)"
   ]
  },
  {
   "cell_type": "code",
   "execution_count": 52,
   "id": "78f73867",
   "metadata": {},
   "outputs": [],
   "source": [
    "# define X and y\n",
    "X = df.drop(columns=['is_canceled'])\n",
    "y = df['is_canceled']\n",
    "# splitting train and test set (70:30)\n",
    "X_train, X_test, y_train, y_test = train_test_split(X, y, test_size=0.3, random_state=1)"
   ]
  },
  {
   "cell_type": "code",
   "execution_count": 53,
   "id": "19100d47",
   "metadata": {},
   "outputs": [],
   "source": [
    "# oversampling using Synthetic Minority Over-sampling Technique (SMOTE)\n",
    "oversample = SMOTE()\n",
    "X_train, y_train = oversample.fit_resample(X_train, y_train)"
   ]
  },
  {
   "cell_type": "code",
   "execution_count": 54,
   "id": "f91a0dbc",
   "metadata": {},
   "outputs": [
    {
     "name": "stderr",
     "output_type": "stream",
     "text": [
      "/Users/raphaelvoortman/.pyenv/versions/3.8.6/envs/lewagon_tf/lib/python3.8/site-packages/sklearn/linear_model/_logistic.py:763: ConvergenceWarning: lbfgs failed to converge (status=1):\n",
      "STOP: TOTAL NO. of ITERATIONS REACHED LIMIT.\n",
      "\n",
      "Increase the number of iterations (max_iter) or scale the data as shown in:\n",
      "    https://scikit-learn.org/stable/modules/preprocessing.html\n",
      "Please also refer to the documentation for alternative solver options:\n",
      "    https://scikit-learn.org/stable/modules/linear_model.html#logistic-regression\n",
      "  n_iter_i = _check_optimize_result(\n",
      "/Users/raphaelvoortman/.pyenv/versions/3.8.6/envs/lewagon_tf/lib/python3.8/site-packages/sklearn/linear_model/_logistic.py:763: ConvergenceWarning: lbfgs failed to converge (status=1):\n",
      "STOP: TOTAL NO. of ITERATIONS REACHED LIMIT.\n",
      "\n",
      "Increase the number of iterations (max_iter) or scale the data as shown in:\n",
      "    https://scikit-learn.org/stable/modules/preprocessing.html\n",
      "Please also refer to the documentation for alternative solver options:\n",
      "    https://scikit-learn.org/stable/modules/linear_model.html#logistic-regression\n",
      "  n_iter_i = _check_optimize_result(\n",
      "/Users/raphaelvoortman/.pyenv/versions/3.8.6/envs/lewagon_tf/lib/python3.8/site-packages/sklearn/linear_model/_logistic.py:763: ConvergenceWarning: lbfgs failed to converge (status=1):\n",
      "STOP: TOTAL NO. of ITERATIONS REACHED LIMIT.\n",
      "\n",
      "Increase the number of iterations (max_iter) or scale the data as shown in:\n",
      "    https://scikit-learn.org/stable/modules/preprocessing.html\n",
      "Please also refer to the documentation for alternative solver options:\n",
      "    https://scikit-learn.org/stable/modules/linear_model.html#logistic-regression\n",
      "  n_iter_i = _check_optimize_result(\n",
      "/Users/raphaelvoortman/.pyenv/versions/3.8.6/envs/lewagon_tf/lib/python3.8/site-packages/sklearn/linear_model/_logistic.py:763: ConvergenceWarning: lbfgs failed to converge (status=1):\n",
      "STOP: TOTAL NO. of ITERATIONS REACHED LIMIT.\n",
      "\n",
      "Increase the number of iterations (max_iter) or scale the data as shown in:\n",
      "    https://scikit-learn.org/stable/modules/preprocessing.html\n",
      "Please also refer to the documentation for alternative solver options:\n",
      "    https://scikit-learn.org/stable/modules/linear_model.html#logistic-regression\n",
      "  n_iter_i = _check_optimize_result(\n",
      "/Users/raphaelvoortman/.pyenv/versions/3.8.6/envs/lewagon_tf/lib/python3.8/site-packages/sklearn/linear_model/_logistic.py:763: ConvergenceWarning: lbfgs failed to converge (status=1):\n",
      "STOP: TOTAL NO. of ITERATIONS REACHED LIMIT.\n",
      "\n",
      "Increase the number of iterations (max_iter) or scale the data as shown in:\n",
      "    https://scikit-learn.org/stable/modules/preprocessing.html\n",
      "Please also refer to the documentation for alternative solver options:\n",
      "    https://scikit-learn.org/stable/modules/linear_model.html#logistic-regression\n",
      "  n_iter_i = _check_optimize_result(\n"
     ]
    },
    {
     "data": {
      "text/plain": [
       "0.7544193913292891"
      ]
     },
     "execution_count": 54,
     "metadata": {},
     "output_type": "execute_result"
    }
   ],
   "source": [
    "# trying logistic regression\n",
    "estimator = LogisticRegression()\n",
    "# as we want to detect as many customers as possible that might cancel, we are using the recall as metric\n",
    "results = cross_validate(estimator, X_train, y_train, cv=5, scoring='accuracy')\n",
    "np.mean(results['test_score'])"
   ]
  },
  {
   "cell_type": "code",
   "execution_count": 55,
   "id": "a4f77016",
   "metadata": {},
   "outputs": [
    {
     "data": {
      "text/plain": [
       "0.7857920476401994"
      ]
     },
     "execution_count": 55,
     "metadata": {},
     "output_type": "execute_result"
    }
   ],
   "source": [
    "# try with knn\n",
    "knn = KNeighborsClassifier(n_neighbors=3)\n",
    "results = cross_validate(knn, X_train, y_train, cv=5, scoring='accuracy')\n",
    "np.mean(results['test_score']) # 15% increase in recall score"
   ]
  },
  {
   "cell_type": "markdown",
   "id": "51b86d02",
   "metadata": {},
   "source": [
    "## Model Evaluation and Tuning"
   ]
  },
  {
   "cell_type": "code",
   "execution_count": 50,
   "id": "f8579905",
   "metadata": {
    "scrolled": true
   },
   "outputs": [
    {
     "data": {
      "text/plain": [
       "<matplotlib.legend.Legend at 0x186c740a0>"
      ]
     },
     "execution_count": 50,
     "metadata": {},
     "output_type": "execute_result"
    },
    {
     "data": {
      "image/png": "[encoded data removed]",
      "text/plain": [
       "<Figure size 432x288 with 1 Axes>"
      ]
     },
     "metadata": {
      "needs_background": "light"
     },
     "output_type": "display_data"
    },
    {
     "name": "stderr",
     "output_type": "stream",
     "text": [
      "/Users/raphaelvoortman/.pyenv/versions/3.8.6/envs/lewagon_tf/lib/python3.8/site-packages/sklearn/metrics/_classification.py:1248: UndefinedMetricWarning: Recall is ill-defined and being set to 0.0 due to no true samples. Use `zero_division` parameter to control this behavior.\n",
      "  _warn_prf(average, modifier, msg_start, len(result))\n"
     ]
    }
   ],
   "source": [
    "# plot learning curves\n",
    "train_sizes, train_scores, validation_scores = learning_curve(estimator = knn,\n",
    "                                                              X = X_train,\n",
    "                                                              y = y_train,\n",
    "                                                              cv = 5,\n",
    "                                                              scoring='recall',\n",
    "                                                              n_jobs=-1)\n",
    "train_scores_mean = np.mean(train_scores, axis=1)\n",
    "validation_scores_mean = np.mean(validation_scores, axis=1)\n",
    "plt.plot(train_sizes, train_scores_mean, label = 'Training score')\n",
    "plt.plot(train_sizes, validation_scores_mean, label = 'Validation score')\n",
    "plt.ylabel('recall', fontsize = 14)\n",
    "plt.xlabel('Training set size', fontsize = 14)\n",
    "plt.title('Learning curves', fontsize = 18, y = 1.03)\n",
    "plt.legend() # we can see that the model converged and provided a good recall score which is what we want"
   ]
  },
  {
   "cell_type": "code",
   "execution_count": 51,
   "id": "f65b19b0",
   "metadata": {},
   "outputs": [
    {
     "data": {
      "text/plain": [
       "0.5655636413565839"
      ]
     },
     "execution_count": 51,
     "metadata": {},
     "output_type": "execute_result"
    }
   ],
   "source": [
    "# evaluate the model\n",
    "knn.fit(X_train, y_train)\n",
    "y_pred = knn.predict(X_test)\n",
    "recall_score(y_test, y_pred) # the model is able to detect customers that will cancel in 56% cases"
   ]
  },
  {
   "cell_type": "code",
   "execution_count": 36,
   "id": "02c5a8a3",
   "metadata": {
    "scrolled": false
   },
   "outputs": [
    {
     "data": {
      "text/plain": [
       "<sklearn.metrics._plot.confusion_matrix.ConfusionMatrixDisplay at 0x18696a310>"
      ]
     },
     "execution_count": 36,
     "metadata": {},
     "output_type": "execute_result"
    },
    {
     "data": {
      "image/png": "[encoded data removed]",
      "text/plain": [
       "<Figure size 432x288 with 2 Axes>"
      ]
     },
     "metadata": {
      "needs_background": "light"
     },
     "output_type": "display_data"
    }
   ],
   "source": [
    "# plot confusion matrix\n",
    "plot_confusion_matrix(knn, X_test, y_test)  "
   ]
  },
  {
   "cell_type": "markdown",
   "id": "d6218154",
   "metadata": {},
   "source": [
    "## Conclusion"
   ]
  },
  {
   "cell_type": "markdown",
   "id": "97032919",
   "metadata": {},
   "source": [
    "Our model is able to detect customers that will cancel in 56% cases"
   ]
  }
 ],
 "metadata": {
  "kernelspec": {
   "display_name": "Python 3 (ipykernel)",
   "language": "python",
   "name": "python3"
  },
  "language_info": {
   "codemirror_mode": {
    "name": "ipython",
    "version": 3
   },
   "file_extension": ".py",
   "mimetype": "text/x-python",
   "name": "python",
   "nbconvert_exporter": "python",
   "pygments_lexer": "ipython3",
   "version": "3.8.6"
  },
  "toc": {
   "base_numbering": 1,
   "nav_menu": {},
   "number_sections": false,
   "sideBar": true,
   "skip_h1_title": false,
   "title_cell": "Table of Contents",
   "title_sidebar": "Contents",
   "toc_cell": false,
   "toc_position": {},
   "toc_section_display": true,
   "toc_window_display": true
  }
 },
 "nbformat": 4,
 "nbformat_minor": 5
}

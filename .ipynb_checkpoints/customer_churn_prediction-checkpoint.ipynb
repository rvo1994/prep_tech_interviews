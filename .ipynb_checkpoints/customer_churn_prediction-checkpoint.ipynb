{
 "cells": [
  {
   "cell_type": "markdown",
   "id": "5283aef3",
   "metadata": {},
   "source": [
    "# Telco Customer Churn prediction"
   ]
  },
  {
   "cell_type": "markdown",
   "id": "5a551ac8",
   "metadata": {},
   "source": [
    "## Data retrieval"
   ]
  },
  {
   "cell_type": "code",
   "execution_count": 125,
   "id": "705dc831",
   "metadata": {},
   "outputs": [],
   "source": [
    "# import useful packages\n",
    "import pandas as pd\n",
    "from pandas_profiling import ProfileReport\n",
    "import numpy as np\n",
    "import matplotlib.pyplot as plt\n",
    "import seaborn as sns\n",
    "from sklearn.preprocessing import OneHotEncoder, RobustScaler, MinMaxScaler, FunctionTransformer\n",
    "from sklearn.impute import SimpleImputer\n",
    "from sklearn.model_selection import train_test_split, learning_curve\n",
    "from sklearn.model_selection import cross_validate, GridSearchCV\n",
    "from sklearn.pipeline import Pipeline\n",
    "from sklearn.compose import ColumnTransformer\n",
    "from sklearn.metrics import r2_score, mean_absolute_error, recall_score\n",
    "from imblearn.over_sampling import SMOTE\n",
    "from sklearn.linear_model import ElasticNet, LinearRegression, LogisticRegression\n",
    "from sklearn.neighbors import KNeighborsClassifier\n",
    "import statsmodels.api as sm\n",
    "from sklearn.inspection import permutation_importance\n",
    "from sklearn.metrics import plot_confusion_matrix\n",
    "from sklearn.cluster import KMeans"
   ]
  },
  {
   "cell_type": "code",
   "execution_count": 103,
   "id": "b2543c20",
   "metadata": {},
   "outputs": [],
   "source": [
    "# load data as a DataFrame\n",
    "df = pd.read_csv('WA_Fn-UseC_-Telco-Customer-Churn.csv')"
   ]
  },
  {
   "cell_type": "code",
   "execution_count": 62,
   "id": "c7cbbb53",
   "metadata": {},
   "outputs": [
    {
     "data": {
      "text/plain": [
       "(7043, 21)"
      ]
     },
     "execution_count": 62,
     "metadata": {},
     "output_type": "execute_result"
    }
   ],
   "source": [
    "# check number of observations and potential features\n",
    "df.shape"
   ]
  },
  {
   "cell_type": "code",
   "execution_count": 63,
   "id": "9595e5de",
   "metadata": {
    "scrolled": true
   },
   "outputs": [
    {
     "data": {
      "text/html": [
       "<div>\n",
       "<style scoped>\n",
       "    .dataframe tbody tr th:only-of-type {\n",
       "        vertical-align: middle;\n",
       "    }\n",
       "\n",
       "    .dataframe tbody tr th {\n",
       "        vertical-align: top;\n",
       "    }\n",
       "\n",
       "    .dataframe thead th {\n",
       "        text-align: right;\n",
       "    }\n",
       "</style>\n",
       "<table border=\"1\" class=\"dataframe\">\n",
       "  <thead>\n",
       "    <tr style=\"text-align: right;\">\n",
       "      <th></th>\n",
       "      <th>customerID</th>\n",
       "      <th>gender</th>\n",
       "      <th>SeniorCitizen</th>\n",
       "      <th>Partner</th>\n",
       "      <th>Dependents</th>\n",
       "      <th>tenure</th>\n",
       "      <th>PhoneService</th>\n",
       "      <th>MultipleLines</th>\n",
       "      <th>InternetService</th>\n",
       "      <th>OnlineSecurity</th>\n",
       "      <th>...</th>\n",
       "      <th>DeviceProtection</th>\n",
       "      <th>TechSupport</th>\n",
       "      <th>StreamingTV</th>\n",
       "      <th>StreamingMovies</th>\n",
       "      <th>Contract</th>\n",
       "      <th>PaperlessBilling</th>\n",
       "      <th>PaymentMethod</th>\n",
       "      <th>MonthlyCharges</th>\n",
       "      <th>TotalCharges</th>\n",
       "      <th>Churn</th>\n",
       "    </tr>\n",
       "  </thead>\n",
       "  <tbody>\n",
       "    <tr>\n",
       "      <th>0</th>\n",
       "      <td>7590-VHVEG</td>\n",
       "      <td>Female</td>\n",
       "      <td>0</td>\n",
       "      <td>Yes</td>\n",
       "      <td>No</td>\n",
       "      <td>1</td>\n",
       "      <td>No</td>\n",
       "      <td>No phone service</td>\n",
       "      <td>DSL</td>\n",
       "      <td>No</td>\n",
       "      <td>...</td>\n",
       "      <td>No</td>\n",
       "      <td>No</td>\n",
       "      <td>No</td>\n",
       "      <td>No</td>\n",
       "      <td>Month-to-month</td>\n",
       "      <td>Yes</td>\n",
       "      <td>Electronic check</td>\n",
       "      <td>29.85</td>\n",
       "      <td>29.85</td>\n",
       "      <td>No</td>\n",
       "    </tr>\n",
       "    <tr>\n",
       "      <th>1</th>\n",
       "      <td>5575-GNVDE</td>\n",
       "      <td>Male</td>\n",
       "      <td>0</td>\n",
       "      <td>No</td>\n",
       "      <td>No</td>\n",
       "      <td>34</td>\n",
       "      <td>Yes</td>\n",
       "      <td>No</td>\n",
       "      <td>DSL</td>\n",
       "      <td>Yes</td>\n",
       "      <td>...</td>\n",
       "      <td>Yes</td>\n",
       "      <td>No</td>\n",
       "      <td>No</td>\n",
       "      <td>No</td>\n",
       "      <td>One year</td>\n",
       "      <td>No</td>\n",
       "      <td>Mailed check</td>\n",
       "      <td>56.95</td>\n",
       "      <td>1889.5</td>\n",
       "      <td>No</td>\n",
       "    </tr>\n",
       "    <tr>\n",
       "      <th>2</th>\n",
       "      <td>3668-QPYBK</td>\n",
       "      <td>Male</td>\n",
       "      <td>0</td>\n",
       "      <td>No</td>\n",
       "      <td>No</td>\n",
       "      <td>2</td>\n",
       "      <td>Yes</td>\n",
       "      <td>No</td>\n",
       "      <td>DSL</td>\n",
       "      <td>Yes</td>\n",
       "      <td>...</td>\n",
       "      <td>No</td>\n",
       "      <td>No</td>\n",
       "      <td>No</td>\n",
       "      <td>No</td>\n",
       "      <td>Month-to-month</td>\n",
       "      <td>Yes</td>\n",
       "      <td>Mailed check</td>\n",
       "      <td>53.85</td>\n",
       "      <td>108.15</td>\n",
       "      <td>Yes</td>\n",
       "    </tr>\n",
       "    <tr>\n",
       "      <th>3</th>\n",
       "      <td>7795-CFOCW</td>\n",
       "      <td>Male</td>\n",
       "      <td>0</td>\n",
       "      <td>No</td>\n",
       "      <td>No</td>\n",
       "      <td>45</td>\n",
       "      <td>No</td>\n",
       "      <td>No phone service</td>\n",
       "      <td>DSL</td>\n",
       "      <td>Yes</td>\n",
       "      <td>...</td>\n",
       "      <td>Yes</td>\n",
       "      <td>Yes</td>\n",
       "      <td>No</td>\n",
       "      <td>No</td>\n",
       "      <td>One year</td>\n",
       "      <td>No</td>\n",
       "      <td>Bank transfer (automatic)</td>\n",
       "      <td>42.30</td>\n",
       "      <td>1840.75</td>\n",
       "      <td>No</td>\n",
       "    </tr>\n",
       "    <tr>\n",
       "      <th>4</th>\n",
       "      <td>9237-HQITU</td>\n",
       "      <td>Female</td>\n",
       "      <td>0</td>\n",
       "      <td>No</td>\n",
       "      <td>No</td>\n",
       "      <td>2</td>\n",
       "      <td>Yes</td>\n",
       "      <td>No</td>\n",
       "      <td>Fiber optic</td>\n",
       "      <td>No</td>\n",
       "      <td>...</td>\n",
       "      <td>No</td>\n",
       "      <td>No</td>\n",
       "      <td>No</td>\n",
       "      <td>No</td>\n",
       "      <td>Month-to-month</td>\n",
       "      <td>Yes</td>\n",
       "      <td>Electronic check</td>\n",
       "      <td>70.70</td>\n",
       "      <td>151.65</td>\n",
       "      <td>Yes</td>\n",
       "    </tr>\n",
       "  </tbody>\n",
       "</table>\n",
       "<p>5 rows × 21 columns</p>\n",
       "</div>"
      ],
      "text/plain": [
       "   customerID  gender  SeniorCitizen Partner Dependents  tenure PhoneService  \\\n",
       "0  7590-VHVEG  Female              0     Yes         No       1           No   \n",
       "1  5575-GNVDE    Male              0      No         No      34          Yes   \n",
       "2  3668-QPYBK    Male              0      No         No       2          Yes   \n",
       "3  7795-CFOCW    Male              0      No         No      45           No   \n",
       "4  9237-HQITU  Female              0      No         No       2          Yes   \n",
       "\n",
       "      MultipleLines InternetService OnlineSecurity  ... DeviceProtection  \\\n",
       "0  No phone service             DSL             No  ...               No   \n",
       "1                No             DSL            Yes  ...              Yes   \n",
       "2                No             DSL            Yes  ...               No   \n",
       "3  No phone service             DSL            Yes  ...              Yes   \n",
       "4                No     Fiber optic             No  ...               No   \n",
       "\n",
       "  TechSupport StreamingTV StreamingMovies        Contract PaperlessBilling  \\\n",
       "0          No          No              No  Month-to-month              Yes   \n",
       "1          No          No              No        One year               No   \n",
       "2          No          No              No  Month-to-month              Yes   \n",
       "3         Yes          No              No        One year               No   \n",
       "4          No          No              No  Month-to-month              Yes   \n",
       "\n",
       "               PaymentMethod MonthlyCharges  TotalCharges Churn  \n",
       "0           Electronic check          29.85         29.85    No  \n",
       "1               Mailed check          56.95        1889.5    No  \n",
       "2               Mailed check          53.85        108.15   Yes  \n",
       "3  Bank transfer (automatic)          42.30       1840.75    No  \n",
       "4           Electronic check          70.70        151.65   Yes  \n",
       "\n",
       "[5 rows x 21 columns]"
      ]
     },
     "execution_count": 63,
     "metadata": {},
     "output_type": "execute_result"
    }
   ],
   "source": [
    "# check 5 first observations\n",
    "df.head()"
   ]
  },
  {
   "cell_type": "code",
   "execution_count": 64,
   "id": "13fdcff3",
   "metadata": {
    "scrolled": true
   },
   "outputs": [
    {
     "name": "stdout",
     "output_type": "stream",
     "text": [
      "<class 'pandas.core.frame.DataFrame'>\n",
      "RangeIndex: 7043 entries, 0 to 7042\n",
      "Data columns (total 21 columns):\n",
      " #   Column            Non-Null Count  Dtype  \n",
      "---  ------            --------------  -----  \n",
      " 0   customerID        7043 non-null   object \n",
      " 1   gender            7043 non-null   object \n",
      " 2   SeniorCitizen     7043 non-null   int64  \n",
      " 3   Partner           7043 non-null   object \n",
      " 4   Dependents        7043 non-null   object \n",
      " 5   tenure            7043 non-null   int64  \n",
      " 6   PhoneService      7043 non-null   object \n",
      " 7   MultipleLines     7043 non-null   object \n",
      " 8   InternetService   7043 non-null   object \n",
      " 9   OnlineSecurity    7043 non-null   object \n",
      " 10  OnlineBackup      7043 non-null   object \n",
      " 11  DeviceProtection  7043 non-null   object \n",
      " 12  TechSupport       7043 non-null   object \n",
      " 13  StreamingTV       7043 non-null   object \n",
      " 14  StreamingMovies   7043 non-null   object \n",
      " 15  Contract          7043 non-null   object \n",
      " 16  PaperlessBilling  7043 non-null   object \n",
      " 17  PaymentMethod     7043 non-null   object \n",
      " 18  MonthlyCharges    7043 non-null   float64\n",
      " 19  TotalCharges      7043 non-null   object \n",
      " 20  Churn             7043 non-null   object \n",
      "dtypes: float64(1), int64(2), object(18)\n",
      "memory usage: 1.1+ MB\n"
     ]
    }
   ],
   "source": [
    "# check datatypes and number of empty values per row \n",
    "df.info()"
   ]
  },
  {
   "cell_type": "markdown",
   "id": "dfe7ca00",
   "metadata": {},
   "source": [
    "## Data Preparation"
   ]
  },
  {
   "cell_type": "code",
   "execution_count": 28,
   "id": "5a2b2723",
   "metadata": {
    "scrolled": true
   },
   "outputs": [
    {
     "data": {
      "application/vnd.jupyter.widget-view+json": {
       "model_id": "ae1227459a0940c99302d2e70df79de1",
       "version_major": 2,
       "version_minor": 0
      },
      "text/plain": [
       "Summarize dataset:   0%|          | 0/34 [00:00<?, ?it/s]"
      ]
     },
     "metadata": {},
     "output_type": "display_data"
    },
    {
     "data": {
      "application/vnd.jupyter.widget-view+json": {
       "model_id": "58fa8b4913734031a57af8d8b99868ed",
       "version_major": 2,
       "version_minor": 0
      },
      "text/plain": [
       "Generate report structure:   0%|          | 0/1 [00:00<?, ?it/s]"
      ]
     },
     "metadata": {},
     "output_type": "display_data"
    },
    {
     "data": {
      "application/vnd.jupyter.widget-view+json": {
       "model_id": "34d2d4f9ec0f45fbab71edc062207f3b",
       "version_major": 2,
       "version_minor": 0
      },
      "text/plain": [
       "Render HTML:   0%|          | 0/1 [00:00<?, ?it/s]"
      ]
     },
     "metadata": {},
     "output_type": "display_data"
    },
    {
     "data": {
      "application/vnd.jupyter.widget-view+json": {
       "model_id": "6e3b7d4b517340228b44b94c970b36af",
       "version_major": 2,
       "version_minor": 0
      },
      "text/plain": [
       "Export report to file:   0%|          | 0/1 [00:00<?, ?it/s]"
      ]
     },
     "metadata": {},
     "output_type": "display_data"
    }
   ],
   "source": [
    "# perform exploratory data analysis\n",
    "prof = ProfileReport(df)\n",
    "prof.to_file(output_file='output.html')"
   ]
  },
  {
   "cell_type": "code",
   "execution_count": 65,
   "id": "eb39c6af",
   "metadata": {},
   "outputs": [],
   "source": [
    "# one hot encode the categorical variables\n",
    "ohe = OneHotEncoder(sparse=False, handle_unknown='ignore')\n",
    "df['male'], df['female'] = ohe.fit_transform(df[['gender']]).T\n",
    "df.Partner = df.Partner.map(dict(Yes=1, No=0))\n",
    "df.Dependents = df.Dependents.map(dict(Yes=1, No=0))\n",
    "df.PhoneService = df.PhoneService.map(dict(Yes=1, No=0))\n",
    "df['SingleLine'], df['MultipleLines'], df['NoLine'] = ohe.fit_transform(df[['MultipleLines']]).T\n",
    "df['Fiberoptic'], df['DSL'], df['NoInternet'] = ohe.fit_transform(df[['InternetService']]).T\n",
    "df['OnlineSecurity'], df['NoOnlineSecurity'], df['NoInternetService'] = ohe.fit_transform(df[['OnlineSecurity']]).T\n",
    "df['OnlineBackup'], df['NoOnlineBackup'], df['NoInternetService'] = ohe.fit_transform(df[['OnlineBackup']]).T\n",
    "df['DeviceProtection'], df['NoDeviceProtection'], df['NoInternetService'] = ohe.fit_transform(df[['DeviceProtection']]).T\n",
    "df['TechSupport'], df['NoTechSupport'], df['NoInternetService'] = ohe.fit_transform(df[['TechSupport']]).T\n",
    "df['StreamingTV'], df['NoStreamingTV'], df['NoInternetService'] = ohe.fit_transform(df[['StreamingTV']]).T\n",
    "df['StreamingMovies'], df['NoStreamingMovies'], df['NoInternetService'] = ohe.fit_transform(df[['StreamingMovies']]).T\n",
    "df['Month-to-month'], df['TwoYear'], df['OneYear'] = ohe.fit_transform(df[['Contract']]).T\n",
    "df.PaperlessBilling = df.PaperlessBilling.map(dict(Yes=1, No=0))\n",
    "df['ElectronicCheck'], df['MailedCheck'], df['BankTransfer'], df['CreditCard'] = ohe.fit_transform(df[['PaymentMethod']]).T\n",
    "df.Churn = df.Churn.map(dict(Yes=1, No=0))"
   ]
  },
  {
   "cell_type": "code",
   "execution_count": 66,
   "id": "5a6b32f2",
   "metadata": {
    "scrolled": true
   },
   "outputs": [],
   "source": [
    "# drop categorical variables\n",
    "df.drop(columns=['customerID',\n",
    "                'gender',\n",
    "                'MultipleLines', \n",
    "                'InternetService', \n",
    "                'OnlineSecurity', \n",
    "                'OnlineBackup', \n",
    "                'DeviceProtection',\n",
    "                'TechSupport',\n",
    "                'StreamingTV',\n",
    "                'StreamingMovies',\n",
    "                'Contract',\n",
    "                'PaymentMethod'],\n",
    "                inplace=True)"
   ]
  },
  {
   "cell_type": "code",
   "execution_count": 68,
   "id": "7294acff",
   "metadata": {
    "scrolled": true
   },
   "outputs": [
    {
     "data": {
      "text/html": [
       "<div>\n",
       "<style scoped>\n",
       "    .dataframe tbody tr th:only-of-type {\n",
       "        vertical-align: middle;\n",
       "    }\n",
       "\n",
       "    .dataframe tbody tr th {\n",
       "        vertical-align: top;\n",
       "    }\n",
       "\n",
       "    .dataframe thead th {\n",
       "        text-align: right;\n",
       "    }\n",
       "</style>\n",
       "<table border=\"1\" class=\"dataframe\">\n",
       "  <thead>\n",
       "    <tr style=\"text-align: right;\">\n",
       "      <th></th>\n",
       "      <th>feature_1</th>\n",
       "      <th>feature_2</th>\n",
       "      <th>correlation</th>\n",
       "    </tr>\n",
       "  </thead>\n",
       "  <tbody>\n",
       "    <tr>\n",
       "      <th>449</th>\n",
       "      <td>NoOnlineSecurity</td>\n",
       "      <td>NoInternet</td>\n",
       "      <td>1.000000</td>\n",
       "    </tr>\n",
       "    <tr>\n",
       "      <th>514</th>\n",
       "      <td>NoOnlineBackup</td>\n",
       "      <td>NoStreamingMovies</td>\n",
       "      <td>1.000000</td>\n",
       "    </tr>\n",
       "    <tr>\n",
       "      <th>513</th>\n",
       "      <td>NoOnlineBackup</td>\n",
       "      <td>NoStreamingTV</td>\n",
       "      <td>1.000000</td>\n",
       "    </tr>\n",
       "    <tr>\n",
       "      <th>512</th>\n",
       "      <td>NoOnlineBackup</td>\n",
       "      <td>NoTechSupport</td>\n",
       "      <td>1.000000</td>\n",
       "    </tr>\n",
       "    <tr>\n",
       "      <th>511</th>\n",
       "      <td>NoOnlineBackup</td>\n",
       "      <td>NoDeviceProtection</td>\n",
       "      <td>1.000000</td>\n",
       "    </tr>\n",
       "    <tr>\n",
       "      <th>508</th>\n",
       "      <td>NoOnlineBackup</td>\n",
       "      <td>NoOnlineSecurity</td>\n",
       "      <td>1.000000</td>\n",
       "    </tr>\n",
       "    <tr>\n",
       "      <th>507</th>\n",
       "      <td>NoOnlineBackup</td>\n",
       "      <td>NoInternet</td>\n",
       "      <td>1.000000</td>\n",
       "    </tr>\n",
       "    <tr>\n",
       "      <th>456</th>\n",
       "      <td>NoOnlineSecurity</td>\n",
       "      <td>NoStreamingMovies</td>\n",
       "      <td>1.000000</td>\n",
       "    </tr>\n",
       "    <tr>\n",
       "      <th>455</th>\n",
       "      <td>NoOnlineSecurity</td>\n",
       "      <td>NoStreamingTV</td>\n",
       "      <td>1.000000</td>\n",
       "    </tr>\n",
       "    <tr>\n",
       "      <th>454</th>\n",
       "      <td>NoOnlineSecurity</td>\n",
       "      <td>NoTechSupport</td>\n",
       "      <td>1.000000</td>\n",
       "    </tr>\n",
       "    <tr>\n",
       "      <th>453</th>\n",
       "      <td>NoOnlineSecurity</td>\n",
       "      <td>NoDeviceProtection</td>\n",
       "      <td>1.000000</td>\n",
       "    </tr>\n",
       "    <tr>\n",
       "      <th>452</th>\n",
       "      <td>NoOnlineSecurity</td>\n",
       "      <td>NoOnlineBackup</td>\n",
       "      <td>1.000000</td>\n",
       "    </tr>\n",
       "    <tr>\n",
       "      <th>427</th>\n",
       "      <td>NoInternet</td>\n",
       "      <td>NoStreamingMovies</td>\n",
       "      <td>1.000000</td>\n",
       "    </tr>\n",
       "    <tr>\n",
       "      <th>537</th>\n",
       "      <td>NoDeviceProtection</td>\n",
       "      <td>NoOnlineSecurity</td>\n",
       "      <td>1.000000</td>\n",
       "    </tr>\n",
       "    <tr>\n",
       "      <th>426</th>\n",
       "      <td>NoInternet</td>\n",
       "      <td>NoStreamingTV</td>\n",
       "      <td>1.000000</td>\n",
       "    </tr>\n",
       "    <tr>\n",
       "      <th>425</th>\n",
       "      <td>NoInternet</td>\n",
       "      <td>NoTechSupport</td>\n",
       "      <td>1.000000</td>\n",
       "    </tr>\n",
       "    <tr>\n",
       "      <th>424</th>\n",
       "      <td>NoInternet</td>\n",
       "      <td>NoDeviceProtection</td>\n",
       "      <td>1.000000</td>\n",
       "    </tr>\n",
       "    <tr>\n",
       "      <th>423</th>\n",
       "      <td>NoInternet</td>\n",
       "      <td>NoOnlineBackup</td>\n",
       "      <td>1.000000</td>\n",
       "    </tr>\n",
       "    <tr>\n",
       "      <th>421</th>\n",
       "      <td>NoInternet</td>\n",
       "      <td>NoOnlineSecurity</td>\n",
       "      <td>1.000000</td>\n",
       "    </tr>\n",
       "    <tr>\n",
       "      <th>536</th>\n",
       "      <td>NoDeviceProtection</td>\n",
       "      <td>NoInternet</td>\n",
       "      <td>1.000000</td>\n",
       "    </tr>\n",
       "    <tr>\n",
       "      <th>539</th>\n",
       "      <td>NoDeviceProtection</td>\n",
       "      <td>NoOnlineBackup</td>\n",
       "      <td>1.000000</td>\n",
       "    </tr>\n",
       "    <tr>\n",
       "      <th>629</th>\n",
       "      <td>NoStreamingMovies</td>\n",
       "      <td>NoStreamingTV</td>\n",
       "      <td>1.000000</td>\n",
       "    </tr>\n",
       "    <tr>\n",
       "      <th>628</th>\n",
       "      <td>NoStreamingMovies</td>\n",
       "      <td>NoTechSupport</td>\n",
       "      <td>1.000000</td>\n",
       "    </tr>\n",
       "    <tr>\n",
       "      <th>627</th>\n",
       "      <td>NoStreamingMovies</td>\n",
       "      <td>NoDeviceProtection</td>\n",
       "      <td>1.000000</td>\n",
       "    </tr>\n",
       "    <tr>\n",
       "      <th>626</th>\n",
       "      <td>NoStreamingMovies</td>\n",
       "      <td>NoOnlineBackup</td>\n",
       "      <td>1.000000</td>\n",
       "    </tr>\n",
       "    <tr>\n",
       "      <th>624</th>\n",
       "      <td>NoStreamingMovies</td>\n",
       "      <td>NoOnlineSecurity</td>\n",
       "      <td>1.000000</td>\n",
       "    </tr>\n",
       "    <tr>\n",
       "      <th>623</th>\n",
       "      <td>NoStreamingMovies</td>\n",
       "      <td>NoInternet</td>\n",
       "      <td>1.000000</td>\n",
       "    </tr>\n",
       "    <tr>\n",
       "      <th>601</th>\n",
       "      <td>NoStreamingTV</td>\n",
       "      <td>NoStreamingMovies</td>\n",
       "      <td>1.000000</td>\n",
       "    </tr>\n",
       "    <tr>\n",
       "      <th>599</th>\n",
       "      <td>NoStreamingTV</td>\n",
       "      <td>NoTechSupport</td>\n",
       "      <td>1.000000</td>\n",
       "    </tr>\n",
       "    <tr>\n",
       "      <th>598</th>\n",
       "      <td>NoStreamingTV</td>\n",
       "      <td>NoDeviceProtection</td>\n",
       "      <td>1.000000</td>\n",
       "    </tr>\n",
       "    <tr>\n",
       "      <th>597</th>\n",
       "      <td>NoStreamingTV</td>\n",
       "      <td>NoOnlineBackup</td>\n",
       "      <td>1.000000</td>\n",
       "    </tr>\n",
       "    <tr>\n",
       "      <th>595</th>\n",
       "      <td>NoStreamingTV</td>\n",
       "      <td>NoOnlineSecurity</td>\n",
       "      <td>1.000000</td>\n",
       "    </tr>\n",
       "    <tr>\n",
       "      <th>594</th>\n",
       "      <td>NoStreamingTV</td>\n",
       "      <td>NoInternet</td>\n",
       "      <td>1.000000</td>\n",
       "    </tr>\n",
       "    <tr>\n",
       "      <th>572</th>\n",
       "      <td>NoTechSupport</td>\n",
       "      <td>NoStreamingMovies</td>\n",
       "      <td>1.000000</td>\n",
       "    </tr>\n",
       "    <tr>\n",
       "      <th>571</th>\n",
       "      <td>NoTechSupport</td>\n",
       "      <td>NoStreamingTV</td>\n",
       "      <td>1.000000</td>\n",
       "    </tr>\n",
       "    <tr>\n",
       "      <th>569</th>\n",
       "      <td>NoTechSupport</td>\n",
       "      <td>NoDeviceProtection</td>\n",
       "      <td>1.000000</td>\n",
       "    </tr>\n",
       "    <tr>\n",
       "      <th>568</th>\n",
       "      <td>NoTechSupport</td>\n",
       "      <td>NoOnlineBackup</td>\n",
       "      <td>1.000000</td>\n",
       "    </tr>\n",
       "    <tr>\n",
       "      <th>566</th>\n",
       "      <td>NoTechSupport</td>\n",
       "      <td>NoOnlineSecurity</td>\n",
       "      <td>1.000000</td>\n",
       "    </tr>\n",
       "    <tr>\n",
       "      <th>565</th>\n",
       "      <td>NoTechSupport</td>\n",
       "      <td>NoInternet</td>\n",
       "      <td>1.000000</td>\n",
       "    </tr>\n",
       "    <tr>\n",
       "      <th>543</th>\n",
       "      <td>NoDeviceProtection</td>\n",
       "      <td>NoStreamingMovies</td>\n",
       "      <td>1.000000</td>\n",
       "    </tr>\n",
       "    <tr>\n",
       "      <th>542</th>\n",
       "      <td>NoDeviceProtection</td>\n",
       "      <td>NoStreamingTV</td>\n",
       "      <td>1.000000</td>\n",
       "    </tr>\n",
       "    <tr>\n",
       "      <th>541</th>\n",
       "      <td>NoDeviceProtection</td>\n",
       "      <td>NoTechSupport</td>\n",
       "      <td>1.000000</td>\n",
       "    </tr>\n",
       "    <tr>\n",
       "      <th>383</th>\n",
       "      <td>DSL</td>\n",
       "      <td>MonthlyCharges</td>\n",
       "      <td>0.787066</td>\n",
       "    </tr>\n",
       "    <tr>\n",
       "      <th>187</th>\n",
       "      <td>MonthlyCharges</td>\n",
       "      <td>DSL</td>\n",
       "      <td>0.787066</td>\n",
       "    </tr>\n",
       "    <tr>\n",
       "      <th>470</th>\n",
       "      <td>NoInternetService</td>\n",
       "      <td>MonthlyCharges</td>\n",
       "      <td>0.627429</td>\n",
       "    </tr>\n",
       "    <tr>\n",
       "      <th>190</th>\n",
       "      <td>MonthlyCharges</td>\n",
       "      <td>NoInternetService</td>\n",
       "      <td>0.627429</td>\n",
       "    </tr>\n",
       "    <tr>\n",
       "      <th>699</th>\n",
       "      <td>OneYear</td>\n",
       "      <td>tenure</td>\n",
       "      <td>0.558533</td>\n",
       "    </tr>\n",
       "    <tr>\n",
       "      <th>111</th>\n",
       "      <td>tenure</td>\n",
       "      <td>OneYear</td>\n",
       "      <td>0.558533</td>\n",
       "    </tr>\n",
       "    <tr>\n",
       "      <th>325</th>\n",
       "      <td>NoLine</td>\n",
       "      <td>MonthlyCharges</td>\n",
       "      <td>0.490434</td>\n",
       "    </tr>\n",
       "    <tr>\n",
       "      <th>185</th>\n",
       "      <td>MonthlyCharges</td>\n",
       "      <td>NoLine</td>\n",
       "      <td>0.490434</td>\n",
       "    </tr>\n",
       "  </tbody>\n",
       "</table>\n",
       "</div>"
      ],
      "text/plain": [
       "              feature_1           feature_2  correlation\n",
       "449    NoOnlineSecurity          NoInternet     1.000000\n",
       "514      NoOnlineBackup   NoStreamingMovies     1.000000\n",
       "513      NoOnlineBackup       NoStreamingTV     1.000000\n",
       "512      NoOnlineBackup       NoTechSupport     1.000000\n",
       "511      NoOnlineBackup  NoDeviceProtection     1.000000\n",
       "508      NoOnlineBackup    NoOnlineSecurity     1.000000\n",
       "507      NoOnlineBackup          NoInternet     1.000000\n",
       "456    NoOnlineSecurity   NoStreamingMovies     1.000000\n",
       "455    NoOnlineSecurity       NoStreamingTV     1.000000\n",
       "454    NoOnlineSecurity       NoTechSupport     1.000000\n",
       "453    NoOnlineSecurity  NoDeviceProtection     1.000000\n",
       "452    NoOnlineSecurity      NoOnlineBackup     1.000000\n",
       "427          NoInternet   NoStreamingMovies     1.000000\n",
       "537  NoDeviceProtection    NoOnlineSecurity     1.000000\n",
       "426          NoInternet       NoStreamingTV     1.000000\n",
       "425          NoInternet       NoTechSupport     1.000000\n",
       "424          NoInternet  NoDeviceProtection     1.000000\n",
       "423          NoInternet      NoOnlineBackup     1.000000\n",
       "421          NoInternet    NoOnlineSecurity     1.000000\n",
       "536  NoDeviceProtection          NoInternet     1.000000\n",
       "539  NoDeviceProtection      NoOnlineBackup     1.000000\n",
       "629   NoStreamingMovies       NoStreamingTV     1.000000\n",
       "628   NoStreamingMovies       NoTechSupport     1.000000\n",
       "627   NoStreamingMovies  NoDeviceProtection     1.000000\n",
       "626   NoStreamingMovies      NoOnlineBackup     1.000000\n",
       "624   NoStreamingMovies    NoOnlineSecurity     1.000000\n",
       "623   NoStreamingMovies          NoInternet     1.000000\n",
       "601       NoStreamingTV   NoStreamingMovies     1.000000\n",
       "599       NoStreamingTV       NoTechSupport     1.000000\n",
       "598       NoStreamingTV  NoDeviceProtection     1.000000\n",
       "597       NoStreamingTV      NoOnlineBackup     1.000000\n",
       "595       NoStreamingTV    NoOnlineSecurity     1.000000\n",
       "594       NoStreamingTV          NoInternet     1.000000\n",
       "572       NoTechSupport   NoStreamingMovies     1.000000\n",
       "571       NoTechSupport       NoStreamingTV     1.000000\n",
       "569       NoTechSupport  NoDeviceProtection     1.000000\n",
       "568       NoTechSupport      NoOnlineBackup     1.000000\n",
       "566       NoTechSupport    NoOnlineSecurity     1.000000\n",
       "565       NoTechSupport          NoInternet     1.000000\n",
       "543  NoDeviceProtection   NoStreamingMovies     1.000000\n",
       "542  NoDeviceProtection       NoStreamingTV     1.000000\n",
       "541  NoDeviceProtection       NoTechSupport     1.000000\n",
       "383                 DSL      MonthlyCharges     0.787066\n",
       "187      MonthlyCharges                 DSL     0.787066\n",
       "470   NoInternetService      MonthlyCharges     0.627429\n",
       "190      MonthlyCharges   NoInternetService     0.627429\n",
       "699             OneYear              tenure     0.558533\n",
       "111              tenure             OneYear     0.558533\n",
       "325              NoLine      MonthlyCharges     0.490434\n",
       "185      MonthlyCharges              NoLine     0.490434"
      ]
     },
     "execution_count": 68,
     "metadata": {},
     "output_type": "execute_result"
    }
   ],
   "source": [
    "# check correlations between variables\n",
    "corr_df = df.corr().unstack().reset_index() # Unstack correlation matrix \n",
    "corr_df.columns = ['feature_1','feature_2', 'correlation'] # rename columns\n",
    "corr_df.sort_values(by=\"correlation\",ascending=False, inplace=True) # sort by correlation\n",
    "corr_df = corr_df[corr_df['feature_1'] != corr_df['feature_2']] # Remove self correlation\n",
    "corr_df.head(50)"
   ]
  },
  {
   "cell_type": "code",
   "execution_count": 69,
   "id": "a96d4759",
   "metadata": {},
   "outputs": [],
   "source": [
    "# drop redundant columns\n",
    "df.drop(columns=list(set(corr_df.feature_2[corr_df.correlation == 1])), inplace=True)"
   ]
  },
  {
   "cell_type": "code",
   "execution_count": 71,
   "id": "706ae9eb",
   "metadata": {
    "scrolled": true
   },
   "outputs": [],
   "source": [
    "# scale the numeric variables\n",
    "minmaxscaler = MinMaxScaler()\n",
    "df['tenure'] = minmaxscaler.fit_transform(df[['tenure']])\n",
    "df.TotalCharges = pd.to_numeric(df.TotalCharges, errors='coerce')\n",
    "df['TotalCharges'] = minmaxscaler.fit_transform(df[['TotalCharges']])\n",
    "simpleimputer = SimpleImputer(strategy='mean')\n",
    "df['TotalCharges'] = simpleimputer.fit_transform(df[['TotalCharges']])\n",
    "df['MonthlyCharges'] = minmaxscaler.fit_transform(df[['MonthlyCharges']])"
   ]
  },
  {
   "cell_type": "code",
   "execution_count": 118,
   "id": "74a49a81",
   "metadata": {},
   "outputs": [],
   "source": [
    "# define X and y\n",
    "X = df.drop(columns=['Churn'])\n",
    "y = df['Churn']"
   ]
  },
  {
   "cell_type": "code",
   "execution_count": 79,
   "id": "8ede08de",
   "metadata": {},
   "outputs": [],
   "source": [
    "# split train and test set\n",
    "X_train, X_test, y_train, y_test = train_test_split(X, y, test_size=0.3, random_state=0)"
   ]
  },
  {
   "cell_type": "markdown",
   "id": "c9bcc73a",
   "metadata": {},
   "source": [
    "## Modeling"
   ]
  },
  {
   "cell_type": "code",
   "execution_count": 80,
   "id": "858a9637",
   "metadata": {},
   "outputs": [
    {
     "data": {
      "text/plain": [
       "0.8001670699389332"
      ]
     },
     "execution_count": 80,
     "metadata": {},
     "output_type": "execute_result"
    }
   ],
   "source": [
    "# fit a logistic regression model \n",
    "lr = LogisticRegression(class_weight='balanced')\n",
    "results = cross_validate(lr, X_train, y_train, cv=5, scoring='recall')\n",
    "np.mean(results['test_score'])"
   ]
  },
  {
   "cell_type": "markdown",
   "id": "b852f62e",
   "metadata": {},
   "source": [
    "## Model evaluation and tuning"
   ]
  },
  {
   "cell_type": "code",
   "execution_count": 81,
   "id": "84c65786",
   "metadata": {
    "scrolled": false
   },
   "outputs": [
    {
     "data": {
      "text/plain": [
       "<matplotlib.legend.Legend at 0x1936c9880>"
      ]
     },
     "execution_count": 81,
     "metadata": {},
     "output_type": "execute_result"
    },
    {
     "data": {
      "image/png": "[encoded data removed]",
      "text/plain": [
       "<Figure size 432x288 with 1 Axes>"
      ]
     },
     "metadata": {
      "needs_background": "light"
     },
     "output_type": "display_data"
    }
   ],
   "source": [
    "# plot learning curves\n",
    "train_sizes, train_scores, validation_scores = learning_curve(estimator = lr,\n",
    "                                                              X = X_train,\n",
    "                                                              y = y_train,\n",
    "                                                              cv = 5,\n",
    "                                                              scoring='recall',\n",
    "                                                              n_jobs=-1)\n",
    "train_scores_mean = np.mean(train_scores, axis=1)\n",
    "validation_scores_mean = np.mean(validation_scores, axis=1)\n",
    "plt.plot(train_sizes, train_scores_mean, label = 'Training score')\n",
    "plt.plot(train_sizes, validation_scores_mean, label = 'Validation score')\n",
    "plt.ylabel('recall', fontsize = 14)\n",
    "plt.xlabel('Training set size', fontsize = 14)\n",
    "plt.title('Learning curves', fontsize = 18, y = 1.03)\n",
    "plt.legend()\n",
    "# we can see that the model converged and has a high validation score, which is great!\n",
    "# as we want to identify as many leaving customers as possible, I used recall as performance metrics"
   ]
  },
  {
   "cell_type": "code",
   "execution_count": 82,
   "id": "a385fa7c",
   "metadata": {},
   "outputs": [
    {
     "data": {
      "text/plain": [
       "0.7739602169981917"
      ]
     },
     "execution_count": 82,
     "metadata": {},
     "output_type": "execute_result"
    }
   ],
   "source": [
    "# calculate recall on test set\n",
    "lr.fit(X_train, y_train)\n",
    "y_pred = lr.predict(X_test)\n",
    "recall_score(y_test, y_pred)\n",
    "# the model has 77% recall"
   ]
  },
  {
   "cell_type": "code",
   "execution_count": 84,
   "id": "69a6db2d",
   "metadata": {
    "scrolled": false
   },
   "outputs": [
    {
     "name": "stderr",
     "output_type": "stream",
     "text": [
      "/Users/raphaelvoortman/.pyenv/versions/3.8.6/envs/lewagon/lib/python3.8/site-packages/sklearn/utils/deprecation.py:87: FutureWarning: Function plot_confusion_matrix is deprecated; Function `plot_confusion_matrix` is deprecated in 1.0 and will be removed in 1.2. Use one of the class methods: ConfusionMatrixDisplay.from_predictions or ConfusionMatrixDisplay.from_estimator.\n",
      "  warnings.warn(msg, category=FutureWarning)\n"
     ]
    },
    {
     "data": {
      "text/plain": [
       "<sklearn.metrics._plot.confusion_matrix.ConfusionMatrixDisplay at 0x19321ed90>"
      ]
     },
     "execution_count": 84,
     "metadata": {},
     "output_type": "execute_result"
    },
    {
     "data": {
      "image/png": "[encoded data removed]",
      "text/plain": [
       "<Figure size 432x288 with 2 Axes>"
      ]
     },
     "metadata": {
      "needs_background": "light"
     },
     "output_type": "display_data"
    }
   ],
   "source": [
    "# plot confusion matrix\n",
    "plot_confusion_matrix(lr, X_test, y_test)  "
   ]
  }
 ],
 "metadata": {
  "kernelspec": {
   "display_name": "Python 3 (ipykernel)",
   "language": "python",
   "name": "python3"
  },
  "language_info": {
   "codemirror_mode": {
    "name": "ipython",
    "version": 3
   },
   "file_extension": ".py",
   "mimetype": "text/x-python",
   "name": "python",
   "nbconvert_exporter": "python",
   "pygments_lexer": "ipython3",
   "version": "3.8.6"
  },
  "toc": {
   "base_numbering": 1,
   "nav_menu": {},
   "number_sections": false,
   "sideBar": true,
   "skip_h1_title": false,
   "title_cell": "Table of Contents",
   "title_sidebar": "Contents",
   "toc_cell": false,
   "toc_position": {},
   "toc_section_display": true,
   "toc_window_display": true
  }
 },
 "nbformat": 4,
 "nbformat_minor": 5
}
